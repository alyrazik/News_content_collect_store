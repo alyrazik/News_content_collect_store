{
  "nbformat": 4,
  "nbformat_minor": 0,
  "metadata": {
    "colab": {
      "name": "CrawlingBBC.ipynb",
      "provenance": [],
      "collapsed_sections": [],
      "toc_visible": true,
      "authorship_tag": "ABX9TyP7yCIlsw1Hfzss/ag6bz8z",
      "include_colab_link": true
    },
    "kernelspec": {
      "name": "python3",
      "display_name": "Python 3"
    }
  },
  "cells": [
    {
      "cell_type": "markdown",
      "metadata": {
        "id": "view-in-github",
        "colab_type": "text"
      },
      "source": [
        "<a href=\"https://colab.research.google.com/github/alyrazik/News_content_collect_store/blob/Crawler-that-follows-links/CrawlingBBC.ipynb\" target=\"_parent\"><img src=\"https://colab.research.google.com/assets/colab-badge.svg\" alt=\"Open In Colab\"/></a>"
      ]
    },
    {
      "cell_type": "markdown",
      "metadata": {
        "id": "3k33AWsna339"
      },
      "source": [
        "#  News Content Collect and Store\n",
        "## by Aly Abdelrazek\n",
        " \n",
        " \n"
      ]
    },
    {
      "cell_type": "markdown",
      "metadata": {
        "id": "L79MNmsrbCR1"
      },
      "source": [
        "##Setup and Importing libraries"
      ]
    },
    {
      "cell_type": "code",
      "metadata": {
        "id": "hWGf2fmJ_fT3",
        "outputId": "4beece7f-2845-404a-d583-41ef56889c22",
        "colab": {
          "base_uri": "https://localhost:8080/"
        }
      },
      "source": [
        "!python -m pip install pymongo[srv]"
      ],
      "execution_count": 1,
      "outputs": [
        {
          "output_type": "stream",
          "text": [
            "Requirement already satisfied: pymongo[srv] in /usr/local/lib/python3.6/dist-packages (3.11.0)\n",
            "Collecting dnspython<2.0.0,>=1.16.0; extra == \"srv\"\n",
            "\u001b[?25l  Downloading https://files.pythonhosted.org/packages/ec/d3/3aa0e7213ef72b8585747aa0e271a9523e713813b9a20177ebe1e939deb0/dnspython-1.16.0-py2.py3-none-any.whl (188kB)\n",
            "\u001b[K     |████████████████████████████████| 194kB 2.8MB/s \n",
            "\u001b[?25hInstalling collected packages: dnspython\n",
            "Successfully installed dnspython-1.16.0\n"
          ],
          "name": "stdout"
        }
      ]
    },
    {
      "cell_type": "code",
      "metadata": {
        "id": "yLi3_Fort-rG"
      },
      "source": [
        "import numpy as np\n",
        "import pandas as pd\n",
        "import requests\n",
        "from bs4 import BeautifulSoup\n",
        "import pickle\n",
        "import pymongo\n",
        "from pymongo import MongoClient\n",
        "from datetime import datetime\n",
        "import time\n",
        "from time import sleep\n"
      ],
      "execution_count": 9,
      "outputs": []
    },
    {
      "cell_type": "code",
      "metadata": {
        "id": "QBkwLD30T8Y6",
        "outputId": "35818d91-43bd-4efe-de1e-ec7d4d09002b",
        "colab": {
          "base_uri": "https://localhost:8080/",
          "height": 35
        }
      },
      "source": [
        "pymongo.version"
      ],
      "execution_count": 3,
      "outputs": [
        {
          "output_type": "execute_result",
          "data": {
            "application/vnd.google.colaboratory.intrinsic+json": {
              "type": "string"
            },
            "text/plain": [
              "'3.11.0'"
            ]
          },
          "metadata": {
            "tags": []
          },
          "execution_count": 3
        }
      ]
    },
    {
      "cell_type": "markdown",
      "metadata": {
        "id": "CdxOK26K5N5P"
      },
      "source": [
        "##Global variables"
      ]
    },
    {
      "cell_type": "code",
      "metadata": {
        "id": "0c1Y1duR5Hcn"
      },
      "source": [
        "news_page_url = \"https://bbc.com/news\"\n",
        "parent = \"https://bbc.com\"\n",
        "SEARCH_LIMIT = 10   #limit the number of returned articles matching a keyword search\n"
      ],
      "execution_count": 4,
      "outputs": []
    },
    {
      "cell_type": "markdown",
      "metadata": {
        "id": "rgzHfuU3bK_N"
      },
      "source": [
        "##Crawl\n"
      ]
    },
    {
      "cell_type": "code",
      "metadata": {
        "id": "J4x-otyBvPVA"
      },
      "source": [
        "# Obtains news stories links from news_page_url (https://bbc.com/news)\n",
        "def give_links(url, parent):\n",
        "  ''' Take a url, and its parent address and returns a list of absolute addresses of web links orginitating from it.'''\n",
        "  \n",
        "  page_html = requests.get(url).text\n",
        "  page_soup = BeautifulSoup(page_html, \"html.parser\")\n",
        "  page_links = page_soup.findAll(\"a\") #find all links\n",
        "\n",
        "  #validate and process obtained links\n",
        "  output1 = [link.get(\"href\") for link in page_links if link.get(\"href\") is not None]\n",
        "  output2 = [parent+link if link.startswith(\"/news\") else link for link in output1]\n",
        "  output3 = [link for link in output2 if \"http\" in link]\n",
        "\n",
        "\n",
        "  return output3\n",
        " \n",
        "\n"
      ],
      "execution_count": 5,
      "outputs": []
    },
    {
      "cell_type": "code",
      "metadata": {
        "id": "nQW_9PtMDXEo"
      },
      "source": [
        "\n",
        "def is_news_article(link):\n",
        "  ''' \n",
        "  Take a web link address and tests whether the link contains a news article in BBC. Returns 1 if True, 0 otherwise.  \n",
        "  ''' \n",
        "  if \"/news\" in link: #news articles have /news in address. if not, it is considered not a news article.\n",
        "\n",
        "    try:\n",
        "      s = BeautifulSoup(requests.get(link).text , \"html.parser\")\n",
        "      if s.find(class_= \"css-16rg7hm-ContainerWithSidebarWrapper e1jl38b40\") is not None: #this class is only available in news articles\n",
        "        return 1\n",
        "      else:\n",
        "        return 0\n",
        "    except requests.exceptions.ConnectionError:\n",
        "        print(\"Connection to page refused\")\n",
        "    except:\n",
        "        print(\"An error occured while trying to connect to link\")\n",
        "    else:\n",
        "        print(\"Parsing successful\")\n",
        "  return 0\n"
      ],
      "execution_count": 6,
      "outputs": []
    },
    {
      "cell_type": "code",
      "metadata": {
        "id": "MHMU4GySy0wy"
      },
      "source": [
        "def follow_links(origin_link, n_other_links_to_follow = 1 ):\n",
        "\n",
        "  news_urls = []\n",
        "  other_urls = [origin_link]\n",
        "\n",
        "  start_time = time.time()\n",
        "  print(\"following links...\")\n",
        "  \n",
        "  for i in range(n_other_links_to_follow):\n",
        "    links = give_links(other_urls[i], parent)\n",
        "    other_urls.pop(0) #no longer needed\n",
        "    news_urls = news_urls + [link for link in links if (is_news_article(link))]\n",
        "    other_urls = other_urls + [link for link in links if link not in news_urls]\n",
        "    other_urls = list(dict.fromkeys(other_urls)) #remove duplicates from list.\n",
        "  end_time = time.time()\n",
        "  execution_time = end_time - start_time\n",
        "  print(\"completed in {:2f} seconds\".format(execution_time))\n",
        "  news_urls = list(dict.fromkeys(news_urls)) #remove duplicates from the list\n",
        "  return news_urls, other_urls"
      ],
      "execution_count": 35,
      "outputs": []
    },
    {
      "cell_type": "code",
      "metadata": {
        "id": "n2s4gbOBJLzm",
        "outputId": "6b54f93d-421c-497b-aaa9-548d6c3d2ef3",
        "colab": {
          "base_uri": "https://localhost:8080/"
        }
      },
      "source": [
        "news_urls, other_urls = follow_links(news_page_url, 3)"
      ],
      "execution_count": 36,
      "outputs": [
        {
          "output_type": "stream",
          "text": [
            "following links...\n",
            "completed in 151.750334 seconds\n"
          ],
          "name": "stdout"
        }
      ]
    },
    {
      "cell_type": "code",
      "metadata": {
        "id": "sknD-wND12Ut",
        "outputId": "8484b49a-78ca-4bf3-b400-86d41064ebb8",
        "colab": {
          "base_uri": "https://localhost:8080/"
        }
      },
      "source": [
        "len(news_urls)"
      ],
      "execution_count": 37,
      "outputs": [
        {
          "output_type": "execute_result",
          "data": {
            "text/plain": [
              "24"
            ]
          },
          "metadata": {
            "tags": []
          },
          "execution_count": 37
        }
      ]
    },
    {
      "cell_type": "code",
      "metadata": {
        "id": "33PWrDiS19BN",
        "outputId": "6da2d4b7-658e-4ec0-cc88-07a5c648cf92",
        "colab": {
          "base_uri": "https://localhost:8080/"
        }
      },
      "source": [
        "len(other_urls)"
      ],
      "execution_count": 38,
      "outputs": [
        {
          "output_type": "execute_result",
          "data": {
            "text/plain": [
              "113"
            ]
          },
          "metadata": {
            "tags": []
          },
          "execution_count": 38
        }
      ]
    },
    {
      "cell_type": "markdown",
      "metadata": {
        "id": "_ywQZnmqGFgU"
      },
      "source": [
        "## Scrape"
      ]
    },
    {
      "cell_type": "code",
      "metadata": {
        "id": "XI0CNwitGOXN",
        "outputId": "39443e5c-1131-4888-9b8d-ee7f66327564",
        "colab": {
          "base_uri": "https://localhost:8080/"
        }
      },
      "source": [
        "documents = []\n",
        "document_index = 0\n",
        "\n",
        "for url in news_urls:\n",
        "    print(\"Fetching {}\".format(url))\n",
        "    response = requests.get(url)\n",
        "    html = response.text\n",
        "    soup = BeautifulSoup(html, \"html.parser\")\n",
        "\n",
        "    news_heading = (soup.find('h1')).text\n",
        "    news_text = [p.text for p in soup.find('article').find_all('p')]\n",
        "    news_time = (soup.find('time'))['datetime']\n",
        "\n",
        "    documents.append({\"Document_Index\":str(document_index), \"URL\":url, \"Heading\":news_heading, \"Article\":news_text, \"DateTime\":news_time})\n",
        "    document_index = document_index+1\n"
      ],
      "execution_count": 57,
      "outputs": [
        {
          "output_type": "stream",
          "text": [
            "Fetching https://bbc.com/news/election-us-2020-54756915\n",
            "Fetching https://bbc.com/news/election-us-2020-53657174\n",
            "Fetching https://bbc.com/news/world-us-canada-54665375\n",
            "Fetching https://bbc.com/news/world-us-canada-54751759\n",
            "Fetching https://bbc.com/news/world-europe-54759443\n",
            "Fetching https://bbc.com/news/uk-54756950\n",
            "Fetching https://bbc.com/news/uk-northern-ireland-54750668\n",
            "Fetching https://bbc.com/news/world-europe-54747022\n",
            "Fetching https://bbc.com/news/world-us-canada-54752228\n",
            "Fetching https://bbc.com/news/world-africa-54733425\n",
            "Fetching https://bbc.com/news/world-europe-54752194\n",
            "Fetching https://bbc.com/news/uk-54759343\n",
            "Fetching https://bbc.com/news/election-us-2020-54731172\n",
            "Fetching https://bbc.com/news/election-us-2020-54736083\n",
            "Fetching https://bbc.com/news/world-54553132\n",
            "Fetching https://bbc.com/news/world-europe-54747020\n",
            "Fetching https://bbc.com/news/world-asia-54717686\n",
            "Fetching https://bbc.com/news/health-54661843\n",
            "Fetching https://bbc.com/news/world-asia-54097609\n",
            "Fetching https://bbc.com/news/world-asia-india-54655948\n",
            "Fetching https://bbc.com/news/business-54549612\n",
            "Fetching https://www.bbc.co.uk/news/stories-54623417\n",
            "Fetching https://www.bbc.co.uk/news/stories-54613947\n",
            "Fetching https://bbc.com/news/uk-england-surrey-54755697\n"
          ],
          "name": "stdout"
        }
      ]
    },
    {
      "cell_type": "markdown",
      "metadata": {
        "id": "iqVGWvWp41-_"
      },
      "source": [
        "##Saving to MongoDB"
      ]
    },
    {
      "cell_type": "code",
      "metadata": {
        "id": "1Uu-mCu7ODkN"
      },
      "source": [
        "#connect to client\n",
        "client = MongoClient(\"mongodb+srv://aly:a@cluster0.4pfcp.mongodb.net/db?retryWrites=true&w=majority\")"
      ],
      "execution_count": 58,
      "outputs": []
    },
    {
      "cell_type": "code",
      "metadata": {
        "id": "SZLK-yYU4-sZ"
      },
      "source": [
        "#create a database\n",
        "db = client[\"news_database\"]"
      ],
      "execution_count": 59,
      "outputs": []
    },
    {
      "cell_type": "code",
      "metadata": {
        "id": "mZ0ItLqP5Erh"
      },
      "source": [
        "#create a collection (a table)\n",
        "bbc_news = db[\"bbc_news\"]"
      ],
      "execution_count": 60,
      "outputs": []
    },
    {
      "cell_type": "code",
      "metadata": {
        "id": "dbRwByOM1G0D",
        "outputId": "4a4df8c2-2809-4f63-fd16-d87ebbb02ebd",
        "colab": {
          "base_uri": "https://localhost:8080/"
        }
      },
      "source": [
        "db['bbc_news'].delete_many({})"
      ],
      "execution_count": 61,
      "outputs": [
        {
          "output_type": "execute_result",
          "data": {
            "text/plain": [
              "<pymongo.results.DeleteResult at 0x7ff3883e22c8>"
            ]
          },
          "metadata": {
            "tags": []
          },
          "execution_count": 61
        }
      ]
    },
    {
      "cell_type": "code",
      "metadata": {
        "id": "gmGtZS6q5fQs",
        "outputId": "36afcd82-cc51-40bc-f3d1-02527aedc64c",
        "colab": {
          "base_uri": "https://localhost:8080/"
        }
      },
      "source": [
        "bbc_news.insert_many(documents)"
      ],
      "execution_count": 62,
      "outputs": [
        {
          "output_type": "execute_result",
          "data": {
            "text/plain": [
              "<pymongo.results.InsertManyResult at 0x7ff3886be748>"
            ]
          },
          "metadata": {
            "tags": []
          },
          "execution_count": 62
        }
      ]
    },
    {
      "cell_type": "markdown",
      "metadata": {
        "id": "zaC7v2DIdDLm"
      },
      "source": [
        "##Retrieving content from MongoDB"
      ]
    },
    {
      "cell_type": "code",
      "metadata": {
        "id": "MHFqIvw7Dh9_"
      },
      "source": [
        "def retrieve_documents(database, collection):\n",
        "  ''' Take a MongoDB database and collection name, and returns all documents in collection to a pandas dataframe'''\n",
        "  retrieved_documents = database[collection].find() #do not use database.collection, it is a string :)\n",
        "  retrieved_df = pd.DataFrame(retrieved_documents)\n",
        "  return retrieved_df\n",
        "\n",
        "db = client[\"news_database\"]\n",
        "df = retrieve_documents(database = db , collection = 'bbc_news')"
      ],
      "execution_count": 63,
      "outputs": []
    },
    {
      "cell_type": "markdown",
      "metadata": {
        "id": "CH9F8tp827ZE"
      },
      "source": [
        "## Keyword search in article text"
      ]
    },
    {
      "cell_type": "markdown",
      "metadata": {
        "id": "fj1uAarhj5cV"
      },
      "source": [
        "####Create a text index -required for text search"
      ]
    },
    {
      "cell_type": "code",
      "metadata": {
        "id": "NDjgxscP4SLd",
        "outputId": "1bbccece-0545-4e7a-bd1a-119c439bac58",
        "colab": {
          "base_uri": "https://localhost:8080/",
          "height": 35
        }
      },
      "source": [
        "db = client[\"news_database\"]\n",
        "db.bbc_news.create_index([\n",
        "          (\"Article\", \"text\"),\n",
        "          (\"Heading\", \"text\"),\n",
        "  ],\n",
        "  name=\"search_index\",\n",
        "  weights={\n",
        "      'Article':25,\n",
        "      'Heading':100\n",
        "  }\n",
        ")"
      ],
      "execution_count": 64,
      "outputs": [
        {
          "output_type": "execute_result",
          "data": {
            "application/vnd.google.colaboratory.intrinsic+json": {
              "type": "string"
            },
            "text/plain": [
              "'search_index'"
            ]
          },
          "metadata": {
            "tags": []
          },
          "execution_count": 64
        }
      ]
    },
    {
      "cell_type": "markdown",
      "metadata": {
        "id": "gZSO_1j7kEZd"
      },
      "source": [
        "#### Search function"
      ]
    },
    {
      "cell_type": "code",
      "metadata": {
        "id": "8jK70SV_35zg"
      },
      "source": [
        "def search(search_text, database, collection):\n",
        "  '''\n",
        "  Take a a string containing keywords and outputs all relevant articles to any of them\n",
        "  Args:\n",
        "    -search_text: a string of keywords (<string>)\n",
        "    -database: MongoDB database name (<pymongo.database.Database>)\n",
        "    -collection: string with the name of MongoDB collection (<string>)\n",
        "  Returns:\n",
        "    -A pandas dataframe containing the MongoDB contents of the returned news articles\n",
        "  '''\n",
        "  returned_cursor = database[collection].find({\"$text\": {\"$search\": search_text}}).limit(SEARCH_LIMIT)\n",
        "  df = pd.DataFrame(returned_cursor)\n",
        "  return df\n"
      ],
      "execution_count": 65,
      "outputs": []
    },
    {
      "cell_type": "code",
      "metadata": {
        "id": "XivlBnuGTV9N"
      },
      "source": [
        "output = search(\"macron\", db, 'bbc_news')"
      ],
      "execution_count": 66,
      "outputs": []
    },
    {
      "cell_type": "code",
      "metadata": {
        "id": "du0fqsNWTaXu",
        "outputId": "057aefa2-a00b-435a-e468-fde95bf70392",
        "colab": {
          "base_uri": "https://localhost:8080/"
        }
      },
      "source": [
        "output['URL']"
      ],
      "execution_count": 68,
      "outputs": [
        {
          "output_type": "execute_result",
          "data": {
            "text/plain": [
              "0    https://bbc.com/news/world-europe-54747020\n",
              "Name: URL, dtype: object"
            ]
          },
          "metadata": {
            "tags": []
          },
          "execution_count": 68
        }
      ]
    },
    {
      "cell_type": "code",
      "metadata": {
        "id": "vCcI1UiGkwWo",
        "outputId": "1004ace6-a697-4e76-ea52-bc7d0ad36210",
        "colab": {
          "base_uri": "https://localhost:8080/",
          "height": 785
        }
      },
      "source": [
        "df"
      ],
      "execution_count": 56,
      "outputs": [
        {
          "output_type": "execute_result",
          "data": {
            "text/html": [
              "<div>\n",
              "<style scoped>\n",
              "    .dataframe tbody tr th:only-of-type {\n",
              "        vertical-align: middle;\n",
              "    }\n",
              "\n",
              "    .dataframe tbody tr th {\n",
              "        vertical-align: top;\n",
              "    }\n",
              "\n",
              "    .dataframe thead th {\n",
              "        text-align: right;\n",
              "    }\n",
              "</style>\n",
              "<table border=\"1\" class=\"dataframe\">\n",
              "  <thead>\n",
              "    <tr style=\"text-align: right;\">\n",
              "      <th></th>\n",
              "      <th>_id</th>\n",
              "      <th>Document_Index</th>\n",
              "      <th>Heading</th>\n",
              "      <th>Article</th>\n",
              "      <th>DateTime</th>\n",
              "    </tr>\n",
              "  </thead>\n",
              "  <tbody>\n",
              "    <tr>\n",
              "      <th>0</th>\n",
              "      <td>5f9d4416ccc52a3bd06163bd</td>\n",
              "      <td>0</td>\n",
              "      <td>US Election 2020: Biden and Trump in tug-of-wa...</td>\n",
              "      <td>[.css-14iz86j-BoldText{font-weight:bold;}In a ...</td>\n",
              "      <td>2020-10-31T01:27:07.000Z</td>\n",
              "    </tr>\n",
              "    <tr>\n",
              "      <th>1</th>\n",
              "      <td>5f9d4416ccc52a3bd06163be</td>\n",
              "      <td>1</td>\n",
              "      <td>US election 2020 polls: Who is ahead - Trump o...</td>\n",
              "      <td>[By The Visual and Data Journalism TeamBBC New...</td>\n",
              "      <td>2020-10-31T09:35:58.000Z</td>\n",
              "    </tr>\n",
              "    <tr>\n",
              "      <th>2</th>\n",
              "      <td>5f9d4416ccc52a3bd06163bf</td>\n",
              "      <td>2</td>\n",
              "      <td>US election 2020: How many Americans have vote...</td>\n",
              "      <td>[.css-14iz86j-BoldText{font-weight:bold;}Early...</td>\n",
              "      <td>2020-10-30T19:55:20.000Z</td>\n",
              "    </tr>\n",
              "    <tr>\n",
              "      <th>3</th>\n",
              "      <td>5f9d4416ccc52a3bd06163c0</td>\n",
              "      <td>3</td>\n",
              "      <td>Coronavirus: US sees record-high daily Covid n...</td>\n",
              "      <td>[.css-14iz86j-BoldText{font-weight:bold;}The U...</td>\n",
              "      <td>2020-10-31T04:12:15.000Z</td>\n",
              "    </tr>\n",
              "    <tr>\n",
              "      <th>4</th>\n",
              "      <td>5f9d4416ccc52a3bd06163c1</td>\n",
              "      <td>4</td>\n",
              "      <td>Turkey-Greece quake: Search for survivors unde...</td>\n",
              "      <td>[.css-14iz86j-BoldText{font-weight:bold;}Rescu...</td>\n",
              "      <td>2020-10-31T10:18:11.000Z</td>\n",
              "    </tr>\n",
              "    <tr>\n",
              "      <th>5</th>\n",
              "      <td>5f9d4416ccc52a3bd06163c2</td>\n",
              "      <td>5</td>\n",
              "      <td>Coronavirus: PM considering England lockdown n...</td>\n",
              "      <td>[.css-14iz86j-BoldText{font-weight:bold;}The p...</td>\n",
              "      <td>2020-10-31T10:10:34.000Z</td>\n",
              "    </tr>\n",
              "    <tr>\n",
              "      <th>6</th>\n",
              "      <td>5f9d4416ccc52a3bd06163c3</td>\n",
              "      <td>6</td>\n",
              "      <td>Rare 'blue moon' to enchant Halloween stargazers</td>\n",
              "      <td>[By Barra BestBBC News NI Weather Presenter, ....</td>\n",
              "      <td>2020-10-31T06:10:58.000Z</td>\n",
              "    </tr>\n",
              "    <tr>\n",
              "      <th>7</th>\n",
              "      <td>5f9d4416ccc52a3bd06163c4</td>\n",
              "      <td>7</td>\n",
              "      <td>Coronavirus: Slovakia holds national test but ...</td>\n",
              "      <td>[By Rob CameronBBC News, Prague, .css-14iz86j-...</td>\n",
              "      <td>2020-10-31T09:34:23.000Z</td>\n",
              "    </tr>\n",
              "    <tr>\n",
              "      <th>8</th>\n",
              "      <td>5f9d4416ccc52a3bd06163c5</td>\n",
              "      <td>8</td>\n",
              "      <td>Breonna Taylor: Police officer sues shot black...</td>\n",
              "      <td>[.css-14iz86j-BoldText{font-weight:bold;}A pol...</td>\n",
              "      <td>2020-10-30T23:13:42.000Z</td>\n",
              "    </tr>\n",
              "    <tr>\n",
              "      <th>9</th>\n",
              "      <td>5f9d4416ccc52a3bd06163c6</td>\n",
              "      <td>9</td>\n",
              "      <td>Ivory Coast elections: Voters go to the polls ...</td>\n",
              "      <td>[.css-14iz86j-BoldText{font-weight:bold;}Votes...</td>\n",
              "      <td>2020-10-31T05:06:48.000Z</td>\n",
              "    </tr>\n",
              "    <tr>\n",
              "      <th>10</th>\n",
              "      <td>5f9d4416ccc52a3bd06163c7</td>\n",
              "      <td>10</td>\n",
              "      <td>Covid: Belgium announces return to national lo...</td>\n",
              "      <td>[.css-14iz86j-BoldText{font-weight:bold;}Belgi...</td>\n",
              "      <td>2020-10-31T00:28:59.000Z</td>\n",
              "    </tr>\n",
              "    <tr>\n",
              "      <th>11</th>\n",
              "      <td>5f9d4416ccc52a3bd06163c8</td>\n",
              "      <td>11</td>\n",
              "      <td>Storm Aiden: Heavy rain and winds hit UK</td>\n",
              "      <td>[.css-14iz86j-BoldText{font-weight:bold;}Heavy...</td>\n",
              "      <td>2020-10-31T09:28:15.000Z</td>\n",
              "    </tr>\n",
              "    <tr>\n",
              "      <th>12</th>\n",
              "      <td>5f9d4416ccc52a3bd06163c9</td>\n",
              "      <td>12</td>\n",
              "      <td>US election 2020: The 750,000 people you didnâ...</td>\n",
              "      <td>[By Rebecca SealesBBC News, .css-14iz86j-BoldT...</td>\n",
              "      <td>2020-10-29T21:28:08.000Z</td>\n",
              "    </tr>\n",
              "    <tr>\n",
              "      <th>13</th>\n",
              "      <td>5f9d4416ccc52a3bd06163ca</td>\n",
              "      <td>13</td>\n",
              "      <td>US election 2020: Fact-checking Trump and Bide...</td>\n",
              "      <td>[By Reality Check teamBBC News, .css-14iz86j-B...</td>\n",
              "      <td>2020-10-31T01:16:00.000Z</td>\n",
              "    </tr>\n",
              "    <tr>\n",
              "      <th>14</th>\n",
              "      <td>5f9d4416ccc52a3bd06163cb</td>\n",
              "      <td>14</td>\n",
              "      <td>Hunter Biden: What was he doing in Ukraine and...</td>\n",
              "      <td>[.css-14iz86j-BoldText{font-weight:bold;}Presi...</td>\n",
              "      <td>2020-10-30T19:51:13.000Z</td>\n",
              "    </tr>\n",
              "    <tr>\n",
              "      <th>15</th>\n",
              "      <td>5f9d4416ccc52a3bd06163cc</td>\n",
              "      <td>15</td>\n",
              "      <td>Nice attack: 'Such friendly faces' - city in s...</td>\n",
              "      <td>[By Lucy WilliamsonBBC News, Nice, .css-14iz86...</td>\n",
              "      <td>2020-10-30T12:55:44.000Z</td>\n",
              "    </tr>\n",
              "    <tr>\n",
              "      <th>16</th>\n",
              "      <td>5f9d4416ccc52a3bd06163cd</td>\n",
              "      <td>16</td>\n",
              "      <td>Far from home, Rohingya refugees face a new pe...</td>\n",
              "      <td>[By Akbar HossainBBC Bengali, .css-14iz86j-Bol...</td>\n",
              "      <td>2020-10-31T00:46:12.000Z</td>\n",
              "    </tr>\n",
              "    <tr>\n",
              "      <th>17</th>\n",
              "      <td>5f9d4416ccc52a3bd06163ce</td>\n",
              "      <td>17</td>\n",
              "      <td>Covid: When will it be over and we can do this...</td>\n",
              "      <td>[By James GallagherHealth and science correspo...</td>\n",
              "      <td>2020-10-31T00:22:42.000Z</td>\n",
              "    </tr>\n",
              "    <tr>\n",
              "      <th>18</th>\n",
              "      <td>5f9d4416ccc52a3bd06163cf</td>\n",
              "      <td>18</td>\n",
              "      <td>US election 2020: The Asians who are rooting f...</td>\n",
              "      <td>[By Andreas IllmerBBC News, .css-14iz86j-BoldT...</td>\n",
              "      <td>2020-10-31T01:31:24.000Z</td>\n",
              "    </tr>\n",
              "    <tr>\n",
              "      <th>19</th>\n",
              "      <td>5f9d4416ccc52a3bd06163d0</td>\n",
              "      <td>19</td>\n",
              "      <td>The Kashmir journalists 'harassed' and 'questi...</td>\n",
              "      <td>[By Aamir PeerzadaBBC News, Srinagar, .css-14i...</td>\n",
              "      <td>2020-10-31T01:05:31.000Z</td>\n",
              "    </tr>\n",
              "    <tr>\n",
              "      <th>20</th>\n",
              "      <td>5f9d4416ccc52a3bd06163d1</td>\n",
              "      <td>20</td>\n",
              "      <td>Covid: The 400,000 seafarers who can't go home</td>\n",
              "      <td>[By Tim McDonaldBBC News, Singapore, .css-14iz...</td>\n",
              "      <td>2020-10-30T07:25:21.000Z</td>\n",
              "    </tr>\n",
              "    <tr>\n",
              "      <th>21</th>\n",
              "      <td>5f9d4416ccc52a3bd06163d2</td>\n",
              "      <td>21</td>\n",
              "      <td>Barbara Blake Hannah: The first black reporter...</td>\n",
              "      <td>[By Simi JolaosoBBC News, .css-14iz86j-BoldTex...</td>\n",
              "      <td>2020-10-22T23:19:03.000Z</td>\n",
              "    </tr>\n",
              "    <tr>\n",
              "      <th>22</th>\n",
              "      <td>5f9d4416ccc52a3bd06163d3</td>\n",
              "      <td>22</td>\n",
              "      <td>The man who taught Uber how to say sorry</td>\n",
              "      <td>[By David EdmondsBBC World Service, .css-14iz8...</td>\n",
              "      <td>2020-10-24T08:57:19.000Z</td>\n",
              "    </tr>\n",
              "    <tr>\n",
              "      <th>23</th>\n",
              "      <td>5f9d4416ccc52a3bd06163d4</td>\n",
              "      <td>23</td>\n",
              "      <td>Great Fox-Spider rediscovered on MoD land in S...</td>\n",
              "      <td>[.css-14iz86j-BoldText{font-weight:bold;}One o...</td>\n",
              "      <td>2020-10-31T00:55:56.000Z</td>\n",
              "    </tr>\n",
              "  </tbody>\n",
              "</table>\n",
              "</div>"
            ],
            "text/plain": [
              "                         _id  ...                  DateTime\n",
              "0   5f9d4416ccc52a3bd06163bd  ...  2020-10-31T01:27:07.000Z\n",
              "1   5f9d4416ccc52a3bd06163be  ...  2020-10-31T09:35:58.000Z\n",
              "2   5f9d4416ccc52a3bd06163bf  ...  2020-10-30T19:55:20.000Z\n",
              "3   5f9d4416ccc52a3bd06163c0  ...  2020-10-31T04:12:15.000Z\n",
              "4   5f9d4416ccc52a3bd06163c1  ...  2020-10-31T10:18:11.000Z\n",
              "5   5f9d4416ccc52a3bd06163c2  ...  2020-10-31T10:10:34.000Z\n",
              "6   5f9d4416ccc52a3bd06163c3  ...  2020-10-31T06:10:58.000Z\n",
              "7   5f9d4416ccc52a3bd06163c4  ...  2020-10-31T09:34:23.000Z\n",
              "8   5f9d4416ccc52a3bd06163c5  ...  2020-10-30T23:13:42.000Z\n",
              "9   5f9d4416ccc52a3bd06163c6  ...  2020-10-31T05:06:48.000Z\n",
              "10  5f9d4416ccc52a3bd06163c7  ...  2020-10-31T00:28:59.000Z\n",
              "11  5f9d4416ccc52a3bd06163c8  ...  2020-10-31T09:28:15.000Z\n",
              "12  5f9d4416ccc52a3bd06163c9  ...  2020-10-29T21:28:08.000Z\n",
              "13  5f9d4416ccc52a3bd06163ca  ...  2020-10-31T01:16:00.000Z\n",
              "14  5f9d4416ccc52a3bd06163cb  ...  2020-10-30T19:51:13.000Z\n",
              "15  5f9d4416ccc52a3bd06163cc  ...  2020-10-30T12:55:44.000Z\n",
              "16  5f9d4416ccc52a3bd06163cd  ...  2020-10-31T00:46:12.000Z\n",
              "17  5f9d4416ccc52a3bd06163ce  ...  2020-10-31T00:22:42.000Z\n",
              "18  5f9d4416ccc52a3bd06163cf  ...  2020-10-31T01:31:24.000Z\n",
              "19  5f9d4416ccc52a3bd06163d0  ...  2020-10-31T01:05:31.000Z\n",
              "20  5f9d4416ccc52a3bd06163d1  ...  2020-10-30T07:25:21.000Z\n",
              "21  5f9d4416ccc52a3bd06163d2  ...  2020-10-22T23:19:03.000Z\n",
              "22  5f9d4416ccc52a3bd06163d3  ...  2020-10-24T08:57:19.000Z\n",
              "23  5f9d4416ccc52a3bd06163d4  ...  2020-10-31T00:55:56.000Z\n",
              "\n",
              "[24 rows x 5 columns]"
            ]
          },
          "metadata": {
            "tags": []
          },
          "execution_count": 56
        }
      ]
    },
    {
      "cell_type": "code",
      "metadata": {
        "id": "JsirTLxnU0kS"
      },
      "source": [
        ""
      ],
      "execution_count": null,
      "outputs": []
    }
  ]
}