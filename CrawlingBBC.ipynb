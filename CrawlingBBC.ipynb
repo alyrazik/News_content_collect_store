{
  "nbformat": 4,
  "nbformat_minor": 0,
  "metadata": {
    "colab": {
      "name": "CrawlingBBC.ipynb",
      "provenance": [],
      "collapsed_sections": [],
      "toc_visible": true,
      "authorship_tag": "ABX9TyMhrRIHT1hh6g9p3Me+J8y3",
      "include_colab_link": true
    },
    "kernelspec": {
      "name": "python3",
      "display_name": "Python 3"
    }
  },
  "cells": [
    {
      "cell_type": "markdown",
      "metadata": {
        "id": "view-in-github",
        "colab_type": "text"
      },
      "source": [
        "<a href=\"https://colab.research.google.com/github/alyrazik/News_content_collect_store/blob/MongoDB-Saving-and-querying/CrawlingBBC.ipynb\" target=\"_parent\"><img src=\"https://colab.research.google.com/assets/colab-badge.svg\" alt=\"Open In Colab\"/></a>"
      ]
    },
    {
      "cell_type": "markdown",
      "metadata": {
        "id": "3k33AWsna339"
      },
      "source": [
        "#  News Content Collect and Store\n",
        "## by Aly Abdelrazek\n",
        " \n",
        " \n"
      ]
    },
    {
      "cell_type": "markdown",
      "metadata": {
        "id": "L79MNmsrbCR1"
      },
      "source": [
        "##Setup and Importing libraries"
      ]
    },
    {
      "cell_type": "code",
      "metadata": {
        "id": "hWGf2fmJ_fT3",
        "outputId": "382d616f-7881-4f92-9508-439bd7f49e82",
        "colab": {
          "base_uri": "https://localhost:8080/"
        }
      },
      "source": [
        "!python -m pip install pymongo[srv]"
      ],
      "execution_count": 1,
      "outputs": [
        {
          "output_type": "stream",
          "text": [
            "Requirement already satisfied: pymongo[srv] in /usr/local/lib/python3.6/dist-packages (3.11.0)\n",
            "Requirement already satisfied: dnspython<2.0.0,>=1.16.0; extra == \"srv\" in /usr/local/lib/python3.6/dist-packages (from pymongo[srv]) (1.16.0)\n"
          ],
          "name": "stdout"
        }
      ]
    },
    {
      "cell_type": "code",
      "metadata": {
        "id": "yLi3_Fort-rG"
      },
      "source": [
        "import numpy as np\n",
        "import pandas as pd\n",
        "import requests\n",
        "from bs4 import BeautifulSoup\n",
        "import pickle\n",
        "import pymongo\n",
        "from pymongo import MongoClient\n",
        "from datetime import datetime\n"
      ],
      "execution_count": 2,
      "outputs": []
    },
    {
      "cell_type": "code",
      "metadata": {
        "id": "QBkwLD30T8Y6",
        "outputId": "566c57fe-d72e-4951-b72a-ed8023e481ed",
        "colab": {
          "base_uri": "https://localhost:8080/",
          "height": 35
        }
      },
      "source": [
        "pymongo.version"
      ],
      "execution_count": 3,
      "outputs": [
        {
          "output_type": "execute_result",
          "data": {
            "application/vnd.google.colaboratory.intrinsic+json": {
              "type": "string"
            },
            "text/plain": [
              "'3.11.0'"
            ]
          },
          "metadata": {
            "tags": []
          },
          "execution_count": 3
        }
      ]
    },
    {
      "cell_type": "markdown",
      "metadata": {
        "id": "CdxOK26K5N5P"
      },
      "source": [
        "##Global variables"
      ]
    },
    {
      "cell_type": "code",
      "metadata": {
        "id": "0c1Y1duR5Hcn"
      },
      "source": [
        "news_page_url = \"https://bbc.com/news\"\n",
        "parent = \"https://bbc.com\"\n",
        "SEARCH_LIMIT = 10   #limit the number of returned articles matching a keyword search\n"
      ],
      "execution_count": 30,
      "outputs": []
    },
    {
      "cell_type": "markdown",
      "metadata": {
        "id": "rgzHfuU3bK_N"
      },
      "source": [
        "##Crawl\n"
      ]
    },
    {
      "cell_type": "code",
      "metadata": {
        "id": "J4x-otyBvPVA"
      },
      "source": [
        "# Obtains news stories links from news_page_url (https://bbc.com/news)\n",
        "def news_page_to_news_urls(url, parent):\n",
        "    ''' Takes the URL to a news page and the prefix of the absolute link, and returns a list of news stories URLs.'''\n",
        "    news_urls = []\n",
        "    news_page_html = requests.get(url).text\n",
        "    news_page_soup = BeautifulSoup(news_page_html, \"html.parser\")\n",
        "    news_page_links = news_page_soup.findAll(\"a\") #find all links\n",
        "    \n",
        "    for link in news_page_links:\n",
        "        href = link.get(\"href\")\n",
        "        if href.startswith(\"/news\") and href[-1].isdigit(): #news articles start with /news and ends with a digit\n",
        "            news_url = parent + href\n",
        "            s = BeautifulSoup(requests.get(news_url).text , \"html.parser\")\n",
        "            if s.find(class_= \"css-16rg7hm-ContainerWithSidebarWrapper e1jl38b40\") is not None: #this class is only available in news articles\n",
        "              news_urls.append(news_url)\n",
        "    return news_urls\n",
        "\n",
        "news_urls = news_page_to_news_urls(news_page_url, absolute_link_prefix)"
      ],
      "execution_count": 17,
      "outputs": []
    },
    {
      "cell_type": "code",
      "metadata": {
        "id": "xLL4zU1LZxbT",
        "outputId": "f284ee66-bcf6-437b-93f0-72bce439e4c8",
        "colab": {
          "base_uri": "https://localhost:8080/"
        }
      },
      "source": [
        "len(news_urls)"
      ],
      "execution_count": 18,
      "outputs": [
        {
          "output_type": "execute_result",
          "data": {
            "text/plain": [
              "38"
            ]
          },
          "metadata": {
            "tags": []
          },
          "execution_count": 18
        }
      ]
    },
    {
      "cell_type": "markdown",
      "metadata": {
        "id": "_ywQZnmqGFgU"
      },
      "source": [
        "## Scrape"
      ]
    },
    {
      "cell_type": "code",
      "metadata": {
        "id": "XI0CNwitGOXN"
      },
      "source": [
        "documents = []\n",
        "document_index = 0\n",
        "\n",
        "for url in news_urls:\n",
        "    print(\"Fetching {}\".format(url))\n",
        "    response = requests.get(url)\n",
        "    html = response.text\n",
        "    soup = BeautifulSoup(html, \"html.parser\")\n",
        "\n",
        "    news_heading = (soup.find('h1')).text\n",
        "    news_text = [p.text for p in soup.find('article').find_all('p')]\n",
        "    news_time = (soup.find('time'))['datetime']\n",
        "\n",
        "    documents.append({\"Document_Index\":str(document_index), \"Heading\":news_heading, \"Article\":news_text, \"DateTime\":news_time})\n",
        "    document_index = document_index+1\n"
      ],
      "execution_count": null,
      "outputs": []
    },
    {
      "cell_type": "markdown",
      "metadata": {
        "id": "iqVGWvWp41-_"
      },
      "source": [
        "##Saving to MongoDB"
      ]
    },
    {
      "cell_type": "code",
      "metadata": {
        "id": "1Uu-mCu7ODkN"
      },
      "source": [
        "#connect to client\n",
        "client = MongoClient(\"mongodb+srv://aly:a@cluster0.4pfcp.mongodb.net/db?retryWrites=true&w=majority\")"
      ],
      "execution_count": 47,
      "outputs": []
    },
    {
      "cell_type": "code",
      "metadata": {
        "id": "SZLK-yYU4-sZ"
      },
      "source": [
        "#create a database\n",
        "db = client[\"news_database\"]"
      ],
      "execution_count": 48,
      "outputs": []
    },
    {
      "cell_type": "code",
      "metadata": {
        "id": "mZ0ItLqP5Erh"
      },
      "source": [
        "#create a collection (a table)\n",
        "bbc_news = db[\"bbc_news\"]"
      ],
      "execution_count": 49,
      "outputs": []
    },
    {
      "cell_type": "code",
      "metadata": {
        "id": "dbRwByOM1G0D",
        "outputId": "d03e2e19-3857-41af-f9d7-caedad4db673",
        "colab": {
          "base_uri": "https://localhost:8080/"
        }
      },
      "source": [
        "db['bbc_news'].delete_many({})"
      ],
      "execution_count": 65,
      "outputs": [
        {
          "output_type": "execute_result",
          "data": {
            "text/plain": [
              "<pymongo.results.DeleteResult at 0x7f4fedbded48>"
            ]
          },
          "metadata": {
            "tags": []
          },
          "execution_count": 65
        }
      ]
    },
    {
      "cell_type": "code",
      "metadata": {
        "id": "gmGtZS6q5fQs",
        "outputId": "66a00cd3-2508-4284-d848-8bf4e5fa8958",
        "colab": {
          "base_uri": "https://localhost:8080/"
        }
      },
      "source": [
        "bbc_news.insert_many(documents)"
      ],
      "execution_count": 66,
      "outputs": [
        {
          "output_type": "execute_result",
          "data": {
            "text/plain": [
              "<pymongo.results.InsertManyResult at 0x7f4fee4bf408>"
            ]
          },
          "metadata": {
            "tags": []
          },
          "execution_count": 66
        }
      ]
    },
    {
      "cell_type": "markdown",
      "metadata": {
        "id": "zaC7v2DIdDLm"
      },
      "source": [
        "##Retrieving content from MongoDB"
      ]
    },
    {
      "cell_type": "code",
      "metadata": {
        "id": "MHFqIvw7Dh9_"
      },
      "source": [
        "def retrieve_documents(database, collection):\n",
        "  '''takes a MongoDB database and collection name, and returns all documents in collection to a pandas dataframe'''\n",
        "  retrieved_documents = database[collection].find() #do not use database.collection, it is a string :)\n",
        "  retrieved_df = pd.DataFrame(retrieved_documents)\n",
        "  return retrieved_df\n",
        "\n",
        "db = client[\"news_database\"]\n",
        "df = retrieve_documents(database = db , collection = 'bbc_news')"
      ],
      "execution_count": 67,
      "outputs": []
    },
    {
      "cell_type": "markdown",
      "metadata": {
        "id": "CH9F8tp827ZE"
      },
      "source": [
        "## Keyword search in article text"
      ]
    },
    {
      "cell_type": "code",
      "metadata": {
        "id": "NDjgxscP4SLd",
        "outputId": "cf9c4848-6766-4ca1-c9fa-4b86eca21b9c",
        "colab": {
          "base_uri": "https://localhost:8080/"
        }
      },
      "source": [
        "db = client[\"news_database\"]\n",
        "db.bbc_news.ensure_index([\n",
        "          (\"Article\", \"text\"),\n",
        "          (\"Heading\", \"text\"),\n",
        "  ],\n",
        "  name=\"search_index\",\n",
        "  weights={\n",
        "      'Article':25,\n",
        "      'Heading':100\n",
        "  }\n",
        ")"
      ],
      "execution_count": 68,
      "outputs": [
        {
          "output_type": "stream",
          "text": [
            "/usr/local/lib/python3.6/dist-packages/ipykernel_launcher.py:9: DeprecationWarning: ensure_index is deprecated. Use create_index instead.\n",
            "  if __name__ == '__main__':\n"
          ],
          "name": "stderr"
        }
      ]
    },
    {
      "cell_type": "code",
      "metadata": {
        "id": "8jK70SV_35zg"
      },
      "source": [
        "def search(search_text):\n",
        "    returned_cursor = bbc_news.find({\"$text\": {\"$search\": search_text}}).limit(SEARCH_LIMIT)\n",
        "    df = pd.DataFrame(returned_cursor)\n",
        "    return df\n"
      ],
      "execution_count": 69,
      "outputs": []
    },
    {
      "cell_type": "code",
      "metadata": {
        "id": "XivlBnuGTV9N"
      },
      "source": [
        "output = search(\"france\")"
      ],
      "execution_count": 70,
      "outputs": []
    },
    {
      "cell_type": "code",
      "metadata": {
        "id": "du0fqsNWTaXu",
        "outputId": "fdceb3e4-5fa8-40f6-8578-857f2b98dceb",
        "colab": {
          "base_uri": "https://localhost:8080/",
          "height": 204
        }
      },
      "source": [
        "output"
      ],
      "execution_count": 71,
      "outputs": [
        {
          "output_type": "execute_result",
          "data": {
            "text/html": [
              "<div>\n",
              "<style scoped>\n",
              "    .dataframe tbody tr th:only-of-type {\n",
              "        vertical-align: middle;\n",
              "    }\n",
              "\n",
              "    .dataframe tbody tr th {\n",
              "        vertical-align: top;\n",
              "    }\n",
              "\n",
              "    .dataframe thead th {\n",
              "        text-align: right;\n",
              "    }\n",
              "</style>\n",
              "<table border=\"1\" class=\"dataframe\">\n",
              "  <thead>\n",
              "    <tr style=\"text-align: right;\">\n",
              "      <th></th>\n",
              "      <th>_id</th>\n",
              "      <th>Document_Index</th>\n",
              "      <th>Heading</th>\n",
              "      <th>Article</th>\n",
              "      <th>DateTime</th>\n",
              "    </tr>\n",
              "  </thead>\n",
              "  <tbody>\n",
              "    <tr>\n",
              "      <th>0</th>\n",
              "      <td>5f9b3fa64f790f3d240e148c</td>\n",
              "      <td>28</td>\n",
              "      <td>France attack: Three killed in 'Islamist terro...</td>\n",
              "      <td>[.css-14iz86j-BoldText{font-weight:bold;}Three...</td>\n",
              "      <td>2020-10-29T21:34:43.000Z</td>\n",
              "    </tr>\n",
              "    <tr>\n",
              "      <th>1</th>\n",
              "      <td>5f9b3fa64f790f3d240e1473</td>\n",
              "      <td>3</td>\n",
              "      <td>France attack: Three killed in 'Islamist terro...</td>\n",
              "      <td>[.css-14iz86j-BoldText{font-weight:bold;}Three...</td>\n",
              "      <td>2020-10-29T21:34:43.000Z</td>\n",
              "    </tr>\n",
              "    <tr>\n",
              "      <th>2</th>\n",
              "      <td>5f9b3fa64f790f3d240e147c</td>\n",
              "      <td>12</td>\n",
              "      <td>Covid: Merkel warns of 'long, hard winter' as ...</td>\n",
              "      <td>[.css-14iz86j-BoldText{font-weight:bold;}Germa...</td>\n",
              "      <td>2020-10-29T19:12:05.000Z</td>\n",
              "    </tr>\n",
              "    <tr>\n",
              "      <th>3</th>\n",
              "      <td>5f9b3fa64f790f3d240e147a</td>\n",
              "      <td>10</td>\n",
              "      <td>Covid: Merkel warns of 'long, hard winter' as ...</td>\n",
              "      <td>[.css-14iz86j-BoldText{font-weight:bold;}Germa...</td>\n",
              "      <td>2020-10-29T19:12:05.000Z</td>\n",
              "    </tr>\n",
              "    <tr>\n",
              "      <th>4</th>\n",
              "      <td>5f9b3fa64f790f3d240e1479</td>\n",
              "      <td>9</td>\n",
              "      <td>US growth surged in summer but recovery is slo...</td>\n",
              "      <td>[.css-14iz86j-BoldText{font-weight:bold;}The U...</td>\n",
              "      <td>2020-10-29T14:28:58.000Z</td>\n",
              "    </tr>\n",
              "  </tbody>\n",
              "</table>\n",
              "</div>"
            ],
            "text/plain": [
              "                        _id  ...                  DateTime\n",
              "0  5f9b3fa64f790f3d240e148c  ...  2020-10-29T21:34:43.000Z\n",
              "1  5f9b3fa64f790f3d240e1473  ...  2020-10-29T21:34:43.000Z\n",
              "2  5f9b3fa64f790f3d240e147c  ...  2020-10-29T19:12:05.000Z\n",
              "3  5f9b3fa64f790f3d240e147a  ...  2020-10-29T19:12:05.000Z\n",
              "4  5f9b3fa64f790f3d240e1479  ...  2020-10-29T14:28:58.000Z\n",
              "\n",
              "[5 rows x 5 columns]"
            ]
          },
          "metadata": {
            "tags": []
          },
          "execution_count": 71
        }
      ]
    }
  ]
}