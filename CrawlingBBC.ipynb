{
  "nbformat": 4,
  "nbformat_minor": 0,
  "metadata": {
    "colab": {
      "name": "CrawlingBBC.ipynb",
      "provenance": [],
      "collapsed_sections": [],
      "toc_visible": true,
      "authorship_tag": "ABX9TyOOmR/rYU7CBd8K0XOm/8xJ",
      "include_colab_link": true
    },
    "kernelspec": {
      "name": "python3",
      "display_name": "Python 3"
    }
  },
  "cells": [
    {
      "cell_type": "markdown",
      "metadata": {
        "id": "view-in-github",
        "colab_type": "text"
      },
      "source": [
        "<a href=\"https://colab.research.google.com/github/alyrazik/News_content_collect_store/blob/Crawler-that-follows-links/CrawlingBBC.ipynb\" target=\"_parent\"><img src=\"https://colab.research.google.com/assets/colab-badge.svg\" alt=\"Open In Colab\"/></a>"
      ]
    },
    {
      "cell_type": "markdown",
      "metadata": {
        "id": "3k33AWsna339"
      },
      "source": [
        "#  News Content Collect and Store\n",
        "## by Aly Abdelrazek\n",
        " \n",
        " \n"
      ]
    },
    {
      "cell_type": "markdown",
      "metadata": {
        "id": "L79MNmsrbCR1"
      },
      "source": [
        "##Setup and Importing libraries"
      ]
    },
    {
      "cell_type": "code",
      "metadata": {
        "id": "hWGf2fmJ_fT3",
        "outputId": "2ed5a117-f5b2-4a10-87b9-d8e04ce63d79",
        "colab": {
          "base_uri": "https://localhost:8080/"
        }
      },
      "source": [
        "!python -m pip install pymongo[srv]"
      ],
      "execution_count": 14,
      "outputs": [
        {
          "output_type": "stream",
          "text": [
            "Requirement already satisfied: pymongo[srv] in /usr/local/lib/python3.6/dist-packages (3.11.0)\n",
            "Requirement already satisfied: dnspython<2.0.0,>=1.16.0; extra == \"srv\" in /usr/local/lib/python3.6/dist-packages (from pymongo[srv]) (1.16.0)\n"
          ],
          "name": "stdout"
        }
      ]
    },
    {
      "cell_type": "code",
      "metadata": {
        "id": "yLi3_Fort-rG"
      },
      "source": [
        "import numpy as np\n",
        "import pandas as pd\n",
        "import requests\n",
        "from bs4 import BeautifulSoup\n",
        "import pickle\n",
        "import pymongo\n",
        "from pymongo import MongoClient\n",
        "from datetime import datetime\n",
        "from time import sleep\n"
      ],
      "execution_count": 1,
      "outputs": []
    },
    {
      "cell_type": "code",
      "metadata": {
        "id": "QBkwLD30T8Y6",
        "outputId": "e8bd448a-40f5-407e-ae08-093957219e31",
        "colab": {
          "base_uri": "https://localhost:8080/",
          "height": 35
        }
      },
      "source": [
        "pymongo.version"
      ],
      "execution_count": 2,
      "outputs": [
        {
          "output_type": "execute_result",
          "data": {
            "application/vnd.google.colaboratory.intrinsic+json": {
              "type": "string"
            },
            "text/plain": [
              "'3.11.0'"
            ]
          },
          "metadata": {
            "tags": []
          },
          "execution_count": 2
        }
      ]
    },
    {
      "cell_type": "markdown",
      "metadata": {
        "id": "CdxOK26K5N5P"
      },
      "source": [
        "##Global variables"
      ]
    },
    {
      "cell_type": "code",
      "metadata": {
        "id": "0c1Y1duR5Hcn"
      },
      "source": [
        "news_page_url = \"https://bbc.com/news\"\n",
        "parent = \"https://bbc.com\"\n",
        "SEARCH_LIMIT = 10   #limit the number of returned articles matching a keyword search\n"
      ],
      "execution_count": 3,
      "outputs": []
    },
    {
      "cell_type": "markdown",
      "metadata": {
        "id": "rgzHfuU3bK_N"
      },
      "source": [
        "##Crawl\n"
      ]
    },
    {
      "cell_type": "code",
      "metadata": {
        "id": "J4x-otyBvPVA"
      },
      "source": [
        "# Obtains news stories links from news_page_url (https://bbc.com/news)\n",
        "def give_links(url, parent):\n",
        "  ''' Take a url, and its parent address and returns a list of absolute addresses of web links orginitating from it.'''\n",
        "  \n",
        "  page_html = requests.get(url).text\n",
        "  page_soup = BeautifulSoup(page_html, \"html.parser\")\n",
        "  page_links = page_soup.findAll(\"a\") #find all links\n",
        "\n",
        "  #validate links\n",
        "  output1 = [link.get(\"href\") for link in page_links if link.get(\"href\") is not None]\n",
        "  output2 = [parent+link if link.startswith(\"/news\") else link for link in output1]\n",
        "  output3 = [link for link in output2 if \"http\" in link]\n",
        "\n",
        "\n",
        "  return output3\n",
        " \n",
        "\n",
        "def is_news_article(link):\n",
        "  ''' \n",
        "  Take a web link address and tests whether the link contains a news article in BBC. Returns 1 if True, 0 otherwise.  \n",
        "  ''' \n",
        "  if \"/news\" in link: #news articles have /news in address. consider not a news article if not.\n",
        "\n",
        "    try:\n",
        "      s = BeautifulSoup(requests.get(link).text , \"html.parser\")\n",
        "      if s.find(class_= \"css-16rg7hm-ContainerWithSidebarWrapper e1jl38b40\") is not None: #this class is only available in news articles\n",
        "        return 1\n",
        "      else:\n",
        "        return 0\n",
        "        #sleep(0.1)\n",
        "    except requests.exceptions.ConnectionError:\n",
        "        print(\"Connection to page refused\")\n",
        "    except:\n",
        "        print(\"An error occured while trying to connect to link\")\n",
        "    else:\n",
        "        print(\"Parsing successful\")\n",
        "  return 0\n",
        "#return news_urls.append([news_page_to_news_urls(other_urls[i], parent) for i in range(2,1,len(other_urls))])\n"
      ],
      "execution_count": 7,
      "outputs": []
    },
    {
      "cell_type": "code",
      "metadata": {
        "id": "MHMU4GySy0wy",
        "outputId": "5fe37eaf-5772-4980-a3c7-16d800747066",
        "colab": {
          "base_uri": "https://localhost:8080/"
        }
      },
      "source": [
        "news_urls = []\n",
        "other_urls = [news_page_url]\n",
        "\n",
        "for i in range(3):\n",
        "  links = give_links(other_urls[i], parent)\n",
        "  other_urls.pop(0) #no longer needed\n",
        "  print(\"other urls 0 \", other_urls)\n",
        "  print(\"links \", links)\n",
        "  news_urls = news_urls + [link for link in links if (is_news_article(link))]\n",
        "  print(\"news_urls 1\", news_urls)\n",
        "  other_urls = other_urls + [link for link in links if link not in news_urls]\n",
        "  print(\"other_urls 1\", other_urls)\n",
        "  other_urls = list(dict.fromkeys(other_urls)) #remove duplicates from list.\n",
        "  print(\"other_urls 2\", other_urls)"
      ],
      "execution_count": 12,
      "outputs": [
        {
          "output_type": "stream",
          "text": [
            "other urls 0  []\n",
            "links  ['https://www.bbc.co.uk', 'https://www.bbc.co.uk/accessibility/', 'https://account.bbc.com/account', 'https://www.bbc.co.uk', 'https://www.bbc.co.uk/news', 'https://www.bbc.co.uk/sport', 'https://www.bbc.co.uk/weather', 'https://www.bbc.co.uk/iplayer', 'https://www.bbc.co.uk/sounds', 'https://www.bbc.co.uk/cbbc', 'https://www.bbc.co.uk/cbeebies', 'https://www.bbc.co.uk/food', 'https://www.bbc.co.uk/bitesize', 'https://www.bbc.co.uk/arts', 'https://www.bbc.co.uk/taster', 'https://www.bbc.co.uk/news/localnews', 'https://www.bbc.co.uk/bbcthree', 'https://search.bbc.co.uk/search', 'https://bbc.com/news', 'https://bbc.com/news', 'https://bbc.com/news/election/us2020', 'https://bbc.com/news/coronavirus', 'https://bbc.com/news/av/10462520', 'https://bbc.com/news/world', 'https://bbc.com/news/world/us_and_canada', 'https://bbc.com/news/uk', 'https://bbc.com/news/business', 'https://bbc.com/news/technology', 'https://bbc.com/news/science_and_environment', 'https://bbc.com/news/stories', 'https://bbc.com/news/entertainment_and_arts', 'https://bbc.com/news/health', 'https://bbc.com/news/in_pictures', 'https://bbc.com/news/reality_check', 'https://bbc.com/news/world_radio_and_tv', 'https://bbc.com/news/newsbeat', 'https://bbc.com/news/the_reporters', 'https://bbc.com/news', 'https://bbc.com/news/election/us2020', 'https://bbc.com/news/coronavirus', 'https://bbc.com/news/coronavirus', 'https://bbc.com/news/have_your_say', 'https://bbc.com/news/av/10462520', 'https://bbc.com/news/world', 'https://bbc.com/news/world', 'https://bbc.com/news/world/africa', 'https://bbc.com/news/world/asia', 'https://bbc.com/news/world/australia', 'https://bbc.com/news/world/europe', 'https://bbc.com/news/world/latin_america', 'https://bbc.com/news/world/middle_east', 'https://bbc.com/news/world/us_and_canada', 'https://bbc.com/news/uk', 'https://bbc.com/news/uk', 'https://bbc.com/news/england', 'https://bbc.com/news/northern_ireland', 'https://bbc.com/news/scotland', 'https://bbc.com/news/wales', 'https://bbc.com/news/localnews', 'https://bbc.com/news/business', 'https://bbc.com/news/business', 'https://bbc.com/news/business/market-data', 'https://bbc.com/news/business-45489065', 'https://bbc.com/news/business-38507481', 'https://bbc.com/news/business/companies', 'https://bbc.com/news/business-22434141', 'https://bbc.com/news/business-11428889', 'https://bbc.com/news/business/economy', 'https://bbc.com/news/business-33712313', 'https://bbc.com/news/business/global_car_industry', 'https://bbc.com/news/business/business_of_sport', 'https://bbc.com/news/technology', 'https://bbc.com/news/science_and_environment', 'https://bbc.com/news/stories', 'https://bbc.com/news/entertainment_and_arts', 'https://bbc.com/news/health', 'https://bbc.com/news/health', 'https://bbc.com/news/coronavirus', 'https://bbc.com/news/in_pictures', 'https://bbc.com/news/reality_check', 'https://bbc.com/news/world_radio_and_tv', 'https://bbc.com/news/newsbeat', 'https://bbc.com/news/the_reporters', 'https://bbc.com/news/election-us-2020-54756915', 'https://bbc.com/news/election/us2020', 'https://bbc.com/news/election-us-2020-54756915', 'https://bbc.com/news/election/us2020', 'https://bbc.com/news/election-us-2020-54724957', 'https://bbc.com/news/election-us-2020-53657174', 'https://bbc.com/news/world-us-canada-54665375', 'https://bbc.com/news/world-us-canada-54751759', 'https://bbc.com/news/world/us_and_canada', 'https://bbc.com/news/election-us-2020-54746989', 'https://bbc.com/news/election/us2020', 'https://bbc.com/news/election-us-2020-54743180', 'https://bbc.com/news/election/us2020', 'https://bbc.com/news/election-us-2020-54724957', 'https://bbc.com/news/election/us2020', 'https://bbc.com/news/world-us-canada-54752228', 'https://bbc.com/news/world/us_and_canada', 'https://bbc.com/news/world-us-canada-54745441', 'https://bbc.com/news/world/us_and_canada', 'https://bbc.com/news/world-us-canada-54752188', 'https://bbc.com/news/world/us_and_canada', 'https://bbc.com/news/world-us-canada-54752043', 'https://bbc.com/news/world/us_and_canada', 'https://bbc.com/news/world-europe-54747020', 'https://bbc.com/news/world/europe', 'https://bbc.com/news/world-europe-54749509', 'https://bbc.com/news/world/europe', 'https://bbc.com/news/world-europe-54747020', 'https://bbc.com/news/world/europe', 'https://bbc.com/news/world-europe-54749509', 'https://bbc.com/news/world/europe', 'https://bbc.com/news/world-us-canada-54747625', 'https://bbc.com/news/world/us_and_canada', 'https://bbc.com/news/world-europe-54745251', 'https://bbc.com/news/world/europe', 'https://bbc.com/news/world-us-canada-54742919', 'https://bbc.com/news/world/us_and_canada', 'https://www.bbc.com/news/election/us2020', 'https://www.bbc.com/news/election/us2020', 'https://bbc.com/news/election-us-2020-54742426', 'https://bbc.com/news/election-us-2020-54731172', 'https://bbc.com/news/world-54553132', 'https://bbc.com/news/newsbeat-54739724', 'https://bbc.com/news/world-us-canada-54740177', 'https://www.bbc.com/news/election-us-2020-54678704', 'https://bbc.com/news/world_radio_and_tv', 'https://bbc.com/news/entertainment-arts-54731382', 'https://bbc.com/news/in-pictures-54735147', 'https://bbc.com/news/election-us-2020-54754652', 'https://bbc.com/news/entertainment-arts-54751598', 'https://bbc.com/news/world-54734073', 'https://bbc.com/news/world-us-canada-54745441', 'https://bbc.com/news/health-54712940', 'https://bbc.com/news/world-us-canada-54740177', 'https://bbc.com/news/newsbeat-54739724', 'https://bbc.com/news/election-us-2020-54743180', 'https://bbc.com/news/business-54688474', 'https://bbc.com/news/world-europe-54734371', 'https://bbc.com/news/world-asia-54730487', 'https://bbc.com/news/world-asia-india-54688795', 'https://bbc.com/news/business-54549612', 'https://bbc.com/news/world-africa-54713138', 'https://www.bbc.co.uk/news/topics/cxqvep8kqext/long-reads', 'https://www.bbc.co.uk/news/topics/cxqvep8kqext/long-reads', 'https://www.bbc.co.uk/news/extra/ztdfudx91d/the-boarding-school-monster-who-always-walked-free', 'https://www.bbc.co.uk/news/stories-54695418', 'https://www.bbc.co.uk/news/stories-54623417', 'https://www.bbc.co.uk/news/stories-54613947', 'https://www.bbc.co.uk/sport/54601706', 'https://bbc.com/news/world-us-canada-54752188', 'https://bbc.com/news/entertainment-arts-54746397', 'https://bbc.com/news/election-us-2020-54756915', 'https://bbc.com/news/world-us-canada-54751759', 'https://bbc.com/news/election-us-2020-53657174', 'https://bbc.com/news/health-54750775', 'https://bbc.com/news/world-europe-54749509', 'https://bbc.com/news/world-us-canada-54752228', 'https://bbc.com/news/world-54751920', 'https://bbc.com/news/world-us-canada-54747625', 'https://www.bbc.com/future/article/20201028-the-benefits-of-coffee-is-coffee-good-for-health', 'http://www.bbc.com/future', 'https://www.bbc.com/worklife/article/20201029-the-biggest-unknowns-in-a-post-pandemic-work-world', 'http://www.bbc.com/worklife', 'https://www.bbc.com/travel/story/20201026-dosa-indias-wholesome-fast-food-obsession', 'http://www.bbc.com/travel', 'https://www.bbc.com/culture/article/20201029-10-films-to-watch-this-november', 'http://www.bbc.com/culture', 'https://www.bbc.com/earth/story/the-making-of-me-and-you', 'http://www.bbc.com/earth', 'https://www.bbc.com/future/article/20201027-the-fight-to-save-cape-cods-dolphins', 'http://www.bbc.com/future', 'https://www.bbc.com/worklife/article/20201021-coronavirus-the-possible-long-term-mental-health-impacts', 'http://www.bbc.com/worklife', 'http://www.bbc.co.uk/sport/0/', 'http://www.bbc.co.uk/sport/0/', 'https://www.bbc.co.uk/sport/horse-racing/54695641', 'https://twitter.com/BBCWorld', 'https://www.facebook.com/bbcnews', 'https://www.instagram.com/bbcnews', 'http://pages.email.bbc.com/subscribe', 'http://www.bbc.com/news/10628994', 'https://twitter.com/BBC_HaveYourSay', 'http://www.bbc.co.uk/news/help-41670342', 'https://bbc.com/news', 'https://bbc.com/news/election/us2020', 'https://bbc.com/news/coronavirus', 'https://bbc.com/news/coronavirus', 'https://bbc.com/news/have_your_say', 'https://bbc.com/news/av/10462520', 'https://bbc.com/news/world', 'https://bbc.com/news/world', 'https://bbc.com/news/world/africa', 'https://bbc.com/news/world/asia', 'https://bbc.com/news/world/australia', 'https://bbc.com/news/world/europe', 'https://bbc.com/news/world/latin_america', 'https://bbc.com/news/world/middle_east', 'https://bbc.com/news/world/us_and_canada', 'https://bbc.com/news/uk', 'https://bbc.com/news/uk', 'https://bbc.com/news/england', 'https://bbc.com/news/northern_ireland', 'https://bbc.com/news/scotland', 'https://bbc.com/news/wales', 'https://bbc.com/news/localnews', 'https://bbc.com/news/business', 'https://bbc.com/news/business', 'https://bbc.com/news/business/market-data', 'https://bbc.com/news/business-45489065', 'https://bbc.com/news/business-38507481', 'https://bbc.com/news/business/companies', 'https://bbc.com/news/business-22434141', 'https://bbc.com/news/business-11428889', 'https://bbc.com/news/business/economy', 'https://bbc.com/news/business-33712313', 'https://bbc.com/news/business/global_car_industry', 'https://bbc.com/news/business/business_of_sport', 'https://bbc.com/news/technology', 'https://bbc.com/news/science_and_environment', 'https://bbc.com/news/stories', 'https://bbc.com/news/entertainment_and_arts', 'https://bbc.com/news/health', 'https://bbc.com/news/health', 'https://bbc.com/news/coronavirus', 'https://bbc.com/news/in_pictures', 'https://bbc.com/news/reality_check', 'https://bbc.com/news/world_radio_and_tv', 'https://bbc.com/news/newsbeat', 'https://bbc.com/news/the_reporters', 'https://www.bbc.co.uk', 'https://www.bbc.co.uk/news', 'https://www.bbc.co.uk/sport', 'https://www.bbc.co.uk/weather', 'https://www.bbc.co.uk/iplayer', 'https://www.bbc.co.uk/sounds', 'https://www.bbc.co.uk/cbbc', 'https://www.bbc.co.uk/cbeebies', 'https://www.bbc.co.uk/food', 'https://www.bbc.co.uk/bitesize', 'https://www.bbc.co.uk/arts', 'https://www.bbc.co.uk/taster', 'https://www.bbc.co.uk/news/localnews', 'https://www.bbc.co.uk/bbcthree', 'https://www.bbc.co.uk/usingthebbc/terms/', 'https://www.bbc.co.uk/aboutthebbc', 'https://www.bbc.co.uk/usingthebbc/privacy/', 'https://www.bbc.co.uk/usingthebbc/cookies/', 'https://www.bbc.co.uk/accessibility/', 'https://www.bbc.co.uk/guidance', 'https://www.bbc.co.uk/contact', 'https://www.bbc.co.uk/bbcnewsletter', 'https://www.bbc.co.uk/help/web/links/']\n",
            "news_urls 1 ['https://bbc.com/news/election-us-2020-54756915', 'https://bbc.com/news/election-us-2020-54756915', 'https://bbc.com/news/election-us-2020-53657174', 'https://bbc.com/news/world-us-canada-54665375', 'https://bbc.com/news/world-us-canada-54751759', 'https://bbc.com/news/election-us-2020-54746989', 'https://bbc.com/news/world-us-canada-54752228', 'https://bbc.com/news/world-us-canada-54752188', 'https://bbc.com/news/world-us-canada-54752043', 'https://bbc.com/news/world-europe-54747020', 'https://bbc.com/news/world-europe-54749509', 'https://bbc.com/news/world-europe-54747020', 'https://bbc.com/news/world-europe-54749509', 'https://bbc.com/news/world-us-canada-54747625', 'https://bbc.com/news/world-europe-54745251', 'https://bbc.com/news/world-us-canada-54742919', 'https://bbc.com/news/election-us-2020-54731172', 'https://bbc.com/news/world-54553132', 'https://bbc.com/news/entertainment-arts-54731382', 'https://bbc.com/news/entertainment-arts-54751598', 'https://bbc.com/news/business-54688474', 'https://bbc.com/news/world-europe-54734371', 'https://bbc.com/news/world-asia-54730487', 'https://bbc.com/news/world-asia-india-54688795', 'https://bbc.com/news/business-54549612', 'https://bbc.com/news/world-africa-54713138', 'https://www.bbc.co.uk/news/stories-54623417', 'https://www.bbc.co.uk/news/stories-54613947', 'https://bbc.com/news/world-us-canada-54752188', 'https://bbc.com/news/entertainment-arts-54746397', 'https://bbc.com/news/election-us-2020-54756915', 'https://bbc.com/news/world-us-canada-54751759', 'https://bbc.com/news/election-us-2020-53657174', 'https://bbc.com/news/health-54750775', 'https://bbc.com/news/world-europe-54749509', 'https://bbc.com/news/world-us-canada-54752228', 'https://bbc.com/news/world-us-canada-54747625']\n",
            "other_urls 1 ['https://www.bbc.co.uk', 'https://www.bbc.co.uk/accessibility/', 'https://account.bbc.com/account', 'https://www.bbc.co.uk', 'https://www.bbc.co.uk/news', 'https://www.bbc.co.uk/sport', 'https://www.bbc.co.uk/weather', 'https://www.bbc.co.uk/iplayer', 'https://www.bbc.co.uk/sounds', 'https://www.bbc.co.uk/cbbc', 'https://www.bbc.co.uk/cbeebies', 'https://www.bbc.co.uk/food', 'https://www.bbc.co.uk/bitesize', 'https://www.bbc.co.uk/arts', 'https://www.bbc.co.uk/taster', 'https://www.bbc.co.uk/news/localnews', 'https://www.bbc.co.uk/bbcthree', 'https://search.bbc.co.uk/search', 'https://bbc.com/news', 'https://bbc.com/news', 'https://bbc.com/news/election/us2020', 'https://bbc.com/news/coronavirus', 'https://bbc.com/news/av/10462520', 'https://bbc.com/news/world', 'https://bbc.com/news/world/us_and_canada', 'https://bbc.com/news/uk', 'https://bbc.com/news/business', 'https://bbc.com/news/technology', 'https://bbc.com/news/science_and_environment', 'https://bbc.com/news/stories', 'https://bbc.com/news/entertainment_and_arts', 'https://bbc.com/news/health', 'https://bbc.com/news/in_pictures', 'https://bbc.com/news/reality_check', 'https://bbc.com/news/world_radio_and_tv', 'https://bbc.com/news/newsbeat', 'https://bbc.com/news/the_reporters', 'https://bbc.com/news', 'https://bbc.com/news/election/us2020', 'https://bbc.com/news/coronavirus', 'https://bbc.com/news/coronavirus', 'https://bbc.com/news/have_your_say', 'https://bbc.com/news/av/10462520', 'https://bbc.com/news/world', 'https://bbc.com/news/world', 'https://bbc.com/news/world/africa', 'https://bbc.com/news/world/asia', 'https://bbc.com/news/world/australia', 'https://bbc.com/news/world/europe', 'https://bbc.com/news/world/latin_america', 'https://bbc.com/news/world/middle_east', 'https://bbc.com/news/world/us_and_canada', 'https://bbc.com/news/uk', 'https://bbc.com/news/uk', 'https://bbc.com/news/england', 'https://bbc.com/news/northern_ireland', 'https://bbc.com/news/scotland', 'https://bbc.com/news/wales', 'https://bbc.com/news/localnews', 'https://bbc.com/news/business', 'https://bbc.com/news/business', 'https://bbc.com/news/business/market-data', 'https://bbc.com/news/business-45489065', 'https://bbc.com/news/business-38507481', 'https://bbc.com/news/business/companies', 'https://bbc.com/news/business-22434141', 'https://bbc.com/news/business-11428889', 'https://bbc.com/news/business/economy', 'https://bbc.com/news/business-33712313', 'https://bbc.com/news/business/global_car_industry', 'https://bbc.com/news/business/business_of_sport', 'https://bbc.com/news/technology', 'https://bbc.com/news/science_and_environment', 'https://bbc.com/news/stories', 'https://bbc.com/news/entertainment_and_arts', 'https://bbc.com/news/health', 'https://bbc.com/news/health', 'https://bbc.com/news/coronavirus', 'https://bbc.com/news/in_pictures', 'https://bbc.com/news/reality_check', 'https://bbc.com/news/world_radio_and_tv', 'https://bbc.com/news/newsbeat', 'https://bbc.com/news/the_reporters', 'https://bbc.com/news/election/us2020', 'https://bbc.com/news/election/us2020', 'https://bbc.com/news/election-us-2020-54724957', 'https://bbc.com/news/world/us_and_canada', 'https://bbc.com/news/election/us2020', 'https://bbc.com/news/election-us-2020-54743180', 'https://bbc.com/news/election/us2020', 'https://bbc.com/news/election-us-2020-54724957', 'https://bbc.com/news/election/us2020', 'https://bbc.com/news/world/us_and_canada', 'https://bbc.com/news/world-us-canada-54745441', 'https://bbc.com/news/world/us_and_canada', 'https://bbc.com/news/world/us_and_canada', 'https://bbc.com/news/world/us_and_canada', 'https://bbc.com/news/world/europe', 'https://bbc.com/news/world/europe', 'https://bbc.com/news/world/europe', 'https://bbc.com/news/world/europe', 'https://bbc.com/news/world/us_and_canada', 'https://bbc.com/news/world/europe', 'https://bbc.com/news/world/us_and_canada', 'https://www.bbc.com/news/election/us2020', 'https://www.bbc.com/news/election/us2020', 'https://bbc.com/news/election-us-2020-54742426', 'https://bbc.com/news/newsbeat-54739724', 'https://bbc.com/news/world-us-canada-54740177', 'https://www.bbc.com/news/election-us-2020-54678704', 'https://bbc.com/news/world_radio_and_tv', 'https://bbc.com/news/in-pictures-54735147', 'https://bbc.com/news/election-us-2020-54754652', 'https://bbc.com/news/world-54734073', 'https://bbc.com/news/world-us-canada-54745441', 'https://bbc.com/news/health-54712940', 'https://bbc.com/news/world-us-canada-54740177', 'https://bbc.com/news/newsbeat-54739724', 'https://bbc.com/news/election-us-2020-54743180', 'https://www.bbc.co.uk/news/topics/cxqvep8kqext/long-reads', 'https://www.bbc.co.uk/news/topics/cxqvep8kqext/long-reads', 'https://www.bbc.co.uk/news/extra/ztdfudx91d/the-boarding-school-monster-who-always-walked-free', 'https://www.bbc.co.uk/news/stories-54695418', 'https://www.bbc.co.uk/sport/54601706', 'https://bbc.com/news/world-54751920', 'https://www.bbc.com/future/article/20201028-the-benefits-of-coffee-is-coffee-good-for-health', 'http://www.bbc.com/future', 'https://www.bbc.com/worklife/article/20201029-the-biggest-unknowns-in-a-post-pandemic-work-world', 'http://www.bbc.com/worklife', 'https://www.bbc.com/travel/story/20201026-dosa-indias-wholesome-fast-food-obsession', 'http://www.bbc.com/travel', 'https://www.bbc.com/culture/article/20201029-10-films-to-watch-this-november', 'http://www.bbc.com/culture', 'https://www.bbc.com/earth/story/the-making-of-me-and-you', 'http://www.bbc.com/earth', 'https://www.bbc.com/future/article/20201027-the-fight-to-save-cape-cods-dolphins', 'http://www.bbc.com/future', 'https://www.bbc.com/worklife/article/20201021-coronavirus-the-possible-long-term-mental-health-impacts', 'http://www.bbc.com/worklife', 'http://www.bbc.co.uk/sport/0/', 'http://www.bbc.co.uk/sport/0/', 'https://www.bbc.co.uk/sport/horse-racing/54695641', 'https://twitter.com/BBCWorld', 'https://www.facebook.com/bbcnews', 'https://www.instagram.com/bbcnews', 'http://pages.email.bbc.com/subscribe', 'http://www.bbc.com/news/10628994', 'https://twitter.com/BBC_HaveYourSay', 'http://www.bbc.co.uk/news/help-41670342', 'https://bbc.com/news', 'https://bbc.com/news/election/us2020', 'https://bbc.com/news/coronavirus', 'https://bbc.com/news/coronavirus', 'https://bbc.com/news/have_your_say', 'https://bbc.com/news/av/10462520', 'https://bbc.com/news/world', 'https://bbc.com/news/world', 'https://bbc.com/news/world/africa', 'https://bbc.com/news/world/asia', 'https://bbc.com/news/world/australia', 'https://bbc.com/news/world/europe', 'https://bbc.com/news/world/latin_america', 'https://bbc.com/news/world/middle_east', 'https://bbc.com/news/world/us_and_canada', 'https://bbc.com/news/uk', 'https://bbc.com/news/uk', 'https://bbc.com/news/england', 'https://bbc.com/news/northern_ireland', 'https://bbc.com/news/scotland', 'https://bbc.com/news/wales', 'https://bbc.com/news/localnews', 'https://bbc.com/news/business', 'https://bbc.com/news/business', 'https://bbc.com/news/business/market-data', 'https://bbc.com/news/business-45489065', 'https://bbc.com/news/business-38507481', 'https://bbc.com/news/business/companies', 'https://bbc.com/news/business-22434141', 'https://bbc.com/news/business-11428889', 'https://bbc.com/news/business/economy', 'https://bbc.com/news/business-33712313', 'https://bbc.com/news/business/global_car_industry', 'https://bbc.com/news/business/business_of_sport', 'https://bbc.com/news/technology', 'https://bbc.com/news/science_and_environment', 'https://bbc.com/news/stories', 'https://bbc.com/news/entertainment_and_arts', 'https://bbc.com/news/health', 'https://bbc.com/news/health', 'https://bbc.com/news/coronavirus', 'https://bbc.com/news/in_pictures', 'https://bbc.com/news/reality_check', 'https://bbc.com/news/world_radio_and_tv', 'https://bbc.com/news/newsbeat', 'https://bbc.com/news/the_reporters', 'https://www.bbc.co.uk', 'https://www.bbc.co.uk/news', 'https://www.bbc.co.uk/sport', 'https://www.bbc.co.uk/weather', 'https://www.bbc.co.uk/iplayer', 'https://www.bbc.co.uk/sounds', 'https://www.bbc.co.uk/cbbc', 'https://www.bbc.co.uk/cbeebies', 'https://www.bbc.co.uk/food', 'https://www.bbc.co.uk/bitesize', 'https://www.bbc.co.uk/arts', 'https://www.bbc.co.uk/taster', 'https://www.bbc.co.uk/news/localnews', 'https://www.bbc.co.uk/bbcthree', 'https://www.bbc.co.uk/usingthebbc/terms/', 'https://www.bbc.co.uk/aboutthebbc', 'https://www.bbc.co.uk/usingthebbc/privacy/', 'https://www.bbc.co.uk/usingthebbc/cookies/', 'https://www.bbc.co.uk/accessibility/', 'https://www.bbc.co.uk/guidance', 'https://www.bbc.co.uk/contact', 'https://www.bbc.co.uk/bbcnewsletter', 'https://www.bbc.co.uk/help/web/links/']\n",
            "other_urls 2 ['https://www.bbc.co.uk', 'https://www.bbc.co.uk/accessibility/', 'https://account.bbc.com/account', 'https://www.bbc.co.uk/news', 'https://www.bbc.co.uk/sport', 'https://www.bbc.co.uk/weather', 'https://www.bbc.co.uk/iplayer', 'https://www.bbc.co.uk/sounds', 'https://www.bbc.co.uk/cbbc', 'https://www.bbc.co.uk/cbeebies', 'https://www.bbc.co.uk/food', 'https://www.bbc.co.uk/bitesize', 'https://www.bbc.co.uk/arts', 'https://www.bbc.co.uk/taster', 'https://www.bbc.co.uk/news/localnews', 'https://www.bbc.co.uk/bbcthree', 'https://search.bbc.co.uk/search', 'https://bbc.com/news', 'https://bbc.com/news/election/us2020', 'https://bbc.com/news/coronavirus', 'https://bbc.com/news/av/10462520', 'https://bbc.com/news/world', 'https://bbc.com/news/world/us_and_canada', 'https://bbc.com/news/uk', 'https://bbc.com/news/business', 'https://bbc.com/news/technology', 'https://bbc.com/news/science_and_environment', 'https://bbc.com/news/stories', 'https://bbc.com/news/entertainment_and_arts', 'https://bbc.com/news/health', 'https://bbc.com/news/in_pictures', 'https://bbc.com/news/reality_check', 'https://bbc.com/news/world_radio_and_tv', 'https://bbc.com/news/newsbeat', 'https://bbc.com/news/the_reporters', 'https://bbc.com/news/have_your_say', 'https://bbc.com/news/world/africa', 'https://bbc.com/news/world/asia', 'https://bbc.com/news/world/australia', 'https://bbc.com/news/world/europe', 'https://bbc.com/news/world/latin_america', 'https://bbc.com/news/world/middle_east', 'https://bbc.com/news/england', 'https://bbc.com/news/northern_ireland', 'https://bbc.com/news/scotland', 'https://bbc.com/news/wales', 'https://bbc.com/news/localnews', 'https://bbc.com/news/business/market-data', 'https://bbc.com/news/business-45489065', 'https://bbc.com/news/business-38507481', 'https://bbc.com/news/business/companies', 'https://bbc.com/news/business-22434141', 'https://bbc.com/news/business-11428889', 'https://bbc.com/news/business/economy', 'https://bbc.com/news/business-33712313', 'https://bbc.com/news/business/global_car_industry', 'https://bbc.com/news/business/business_of_sport', 'https://bbc.com/news/election-us-2020-54724957', 'https://bbc.com/news/election-us-2020-54743180', 'https://bbc.com/news/world-us-canada-54745441', 'https://www.bbc.com/news/election/us2020', 'https://bbc.com/news/election-us-2020-54742426', 'https://bbc.com/news/newsbeat-54739724', 'https://bbc.com/news/world-us-canada-54740177', 'https://www.bbc.com/news/election-us-2020-54678704', 'https://bbc.com/news/in-pictures-54735147', 'https://bbc.com/news/election-us-2020-54754652', 'https://bbc.com/news/world-54734073', 'https://bbc.com/news/health-54712940', 'https://www.bbc.co.uk/news/topics/cxqvep8kqext/long-reads', 'https://www.bbc.co.uk/news/extra/ztdfudx91d/the-boarding-school-monster-who-always-walked-free', 'https://www.bbc.co.uk/news/stories-54695418', 'https://www.bbc.co.uk/sport/54601706', 'https://bbc.com/news/world-54751920', 'https://www.bbc.com/future/article/20201028-the-benefits-of-coffee-is-coffee-good-for-health', 'http://www.bbc.com/future', 'https://www.bbc.com/worklife/article/20201029-the-biggest-unknowns-in-a-post-pandemic-work-world', 'http://www.bbc.com/worklife', 'https://www.bbc.com/travel/story/20201026-dosa-indias-wholesome-fast-food-obsession', 'http://www.bbc.com/travel', 'https://www.bbc.com/culture/article/20201029-10-films-to-watch-this-november', 'http://www.bbc.com/culture', 'https://www.bbc.com/earth/story/the-making-of-me-and-you', 'http://www.bbc.com/earth', 'https://www.bbc.com/future/article/20201027-the-fight-to-save-cape-cods-dolphins', 'https://www.bbc.com/worklife/article/20201021-coronavirus-the-possible-long-term-mental-health-impacts', 'http://www.bbc.co.uk/sport/0/', 'https://www.bbc.co.uk/sport/horse-racing/54695641', 'https://twitter.com/BBCWorld', 'https://www.facebook.com/bbcnews', 'https://www.instagram.com/bbcnews', 'http://pages.email.bbc.com/subscribe', 'http://www.bbc.com/news/10628994', 'https://twitter.com/BBC_HaveYourSay', 'http://www.bbc.co.uk/news/help-41670342', 'https://www.bbc.co.uk/usingthebbc/terms/', 'https://www.bbc.co.uk/aboutthebbc', 'https://www.bbc.co.uk/usingthebbc/privacy/', 'https://www.bbc.co.uk/usingthebbc/cookies/', 'https://www.bbc.co.uk/guidance', 'https://www.bbc.co.uk/contact', 'https://www.bbc.co.uk/bbcnewsletter', 'https://www.bbc.co.uk/help/web/links/']\n",
            "other urls 0  ['https://www.bbc.co.uk/accessibility/', 'https://account.bbc.com/account', 'https://www.bbc.co.uk/news', 'https://www.bbc.co.uk/sport', 'https://www.bbc.co.uk/weather', 'https://www.bbc.co.uk/iplayer', 'https://www.bbc.co.uk/sounds', 'https://www.bbc.co.uk/cbbc', 'https://www.bbc.co.uk/cbeebies', 'https://www.bbc.co.uk/food', 'https://www.bbc.co.uk/bitesize', 'https://www.bbc.co.uk/arts', 'https://www.bbc.co.uk/taster', 'https://www.bbc.co.uk/news/localnews', 'https://www.bbc.co.uk/bbcthree', 'https://search.bbc.co.uk/search', 'https://bbc.com/news', 'https://bbc.com/news/election/us2020', 'https://bbc.com/news/coronavirus', 'https://bbc.com/news/av/10462520', 'https://bbc.com/news/world', 'https://bbc.com/news/world/us_and_canada', 'https://bbc.com/news/uk', 'https://bbc.com/news/business', 'https://bbc.com/news/technology', 'https://bbc.com/news/science_and_environment', 'https://bbc.com/news/stories', 'https://bbc.com/news/entertainment_and_arts', 'https://bbc.com/news/health', 'https://bbc.com/news/in_pictures', 'https://bbc.com/news/reality_check', 'https://bbc.com/news/world_radio_and_tv', 'https://bbc.com/news/newsbeat', 'https://bbc.com/news/the_reporters', 'https://bbc.com/news/have_your_say', 'https://bbc.com/news/world/africa', 'https://bbc.com/news/world/asia', 'https://bbc.com/news/world/australia', 'https://bbc.com/news/world/europe', 'https://bbc.com/news/world/latin_america', 'https://bbc.com/news/world/middle_east', 'https://bbc.com/news/england', 'https://bbc.com/news/northern_ireland', 'https://bbc.com/news/scotland', 'https://bbc.com/news/wales', 'https://bbc.com/news/localnews', 'https://bbc.com/news/business/market-data', 'https://bbc.com/news/business-45489065', 'https://bbc.com/news/business-38507481', 'https://bbc.com/news/business/companies', 'https://bbc.com/news/business-22434141', 'https://bbc.com/news/business-11428889', 'https://bbc.com/news/business/economy', 'https://bbc.com/news/business-33712313', 'https://bbc.com/news/business/global_car_industry', 'https://bbc.com/news/business/business_of_sport', 'https://bbc.com/news/election-us-2020-54724957', 'https://bbc.com/news/election-us-2020-54743180', 'https://bbc.com/news/world-us-canada-54745441', 'https://www.bbc.com/news/election/us2020', 'https://bbc.com/news/election-us-2020-54742426', 'https://bbc.com/news/newsbeat-54739724', 'https://bbc.com/news/world-us-canada-54740177', 'https://www.bbc.com/news/election-us-2020-54678704', 'https://bbc.com/news/in-pictures-54735147', 'https://bbc.com/news/election-us-2020-54754652', 'https://bbc.com/news/world-54734073', 'https://bbc.com/news/health-54712940', 'https://www.bbc.co.uk/news/topics/cxqvep8kqext/long-reads', 'https://www.bbc.co.uk/news/extra/ztdfudx91d/the-boarding-school-monster-who-always-walked-free', 'https://www.bbc.co.uk/news/stories-54695418', 'https://www.bbc.co.uk/sport/54601706', 'https://bbc.com/news/world-54751920', 'https://www.bbc.com/future/article/20201028-the-benefits-of-coffee-is-coffee-good-for-health', 'http://www.bbc.com/future', 'https://www.bbc.com/worklife/article/20201029-the-biggest-unknowns-in-a-post-pandemic-work-world', 'http://www.bbc.com/worklife', 'https://www.bbc.com/travel/story/20201026-dosa-indias-wholesome-fast-food-obsession', 'http://www.bbc.com/travel', 'https://www.bbc.com/culture/article/20201029-10-films-to-watch-this-november', 'http://www.bbc.com/culture', 'https://www.bbc.com/earth/story/the-making-of-me-and-you', 'http://www.bbc.com/earth', 'https://www.bbc.com/future/article/20201027-the-fight-to-save-cape-cods-dolphins', 'https://www.bbc.com/worklife/article/20201021-coronavirus-the-possible-long-term-mental-health-impacts', 'http://www.bbc.co.uk/sport/0/', 'https://www.bbc.co.uk/sport/horse-racing/54695641', 'https://twitter.com/BBCWorld', 'https://www.facebook.com/bbcnews', 'https://www.instagram.com/bbcnews', 'http://pages.email.bbc.com/subscribe', 'http://www.bbc.com/news/10628994', 'https://twitter.com/BBC_HaveYourSay', 'http://www.bbc.co.uk/news/help-41670342', 'https://www.bbc.co.uk/usingthebbc/terms/', 'https://www.bbc.co.uk/aboutthebbc', 'https://www.bbc.co.uk/usingthebbc/privacy/', 'https://www.bbc.co.uk/usingthebbc/cookies/', 'https://www.bbc.co.uk/guidance', 'https://www.bbc.co.uk/contact', 'https://www.bbc.co.uk/bbcnewsletter', 'https://www.bbc.co.uk/help/web/links/']\n",
            "links  ['/modules/sharetools/share?url=http://www.bbc.co.uk/accessibility/&appId=mwmw', 'https://ssl.bbc.co.uk/id/status', 'https://ssl.bbc.co.uk/id/settings', 'https://ssl.bbc.co.uk/id/signout', 'http://www.bbc.co.uk/news/', 'http://www.bbc.co.uk/sport/', 'http://www.bbc.co.uk/weather/', 'http://www.bbc.com/earth/', 'http://m.bbc.co.uk/']\n",
            "news_urls 1 ['https://bbc.com/news/election-us-2020-54756915', 'https://bbc.com/news/election-us-2020-54756915', 'https://bbc.com/news/election-us-2020-53657174', 'https://bbc.com/news/world-us-canada-54665375', 'https://bbc.com/news/world-us-canada-54751759', 'https://bbc.com/news/election-us-2020-54746989', 'https://bbc.com/news/world-us-canada-54752228', 'https://bbc.com/news/world-us-canada-54752188', 'https://bbc.com/news/world-us-canada-54752043', 'https://bbc.com/news/world-europe-54747020', 'https://bbc.com/news/world-europe-54749509', 'https://bbc.com/news/world-europe-54747020', 'https://bbc.com/news/world-europe-54749509', 'https://bbc.com/news/world-us-canada-54747625', 'https://bbc.com/news/world-europe-54745251', 'https://bbc.com/news/world-us-canada-54742919', 'https://bbc.com/news/election-us-2020-54731172', 'https://bbc.com/news/world-54553132', 'https://bbc.com/news/entertainment-arts-54731382', 'https://bbc.com/news/entertainment-arts-54751598', 'https://bbc.com/news/business-54688474', 'https://bbc.com/news/world-europe-54734371', 'https://bbc.com/news/world-asia-54730487', 'https://bbc.com/news/world-asia-india-54688795', 'https://bbc.com/news/business-54549612', 'https://bbc.com/news/world-africa-54713138', 'https://www.bbc.co.uk/news/stories-54623417', 'https://www.bbc.co.uk/news/stories-54613947', 'https://bbc.com/news/world-us-canada-54752188', 'https://bbc.com/news/entertainment-arts-54746397', 'https://bbc.com/news/election-us-2020-54756915', 'https://bbc.com/news/world-us-canada-54751759', 'https://bbc.com/news/election-us-2020-53657174', 'https://bbc.com/news/health-54750775', 'https://bbc.com/news/world-europe-54749509', 'https://bbc.com/news/world-us-canada-54752228', 'https://bbc.com/news/world-us-canada-54747625']\n",
            "other_urls 1 ['https://www.bbc.co.uk/accessibility/', 'https://account.bbc.com/account', 'https://www.bbc.co.uk/news', 'https://www.bbc.co.uk/sport', 'https://www.bbc.co.uk/weather', 'https://www.bbc.co.uk/iplayer', 'https://www.bbc.co.uk/sounds', 'https://www.bbc.co.uk/cbbc', 'https://www.bbc.co.uk/cbeebies', 'https://www.bbc.co.uk/food', 'https://www.bbc.co.uk/bitesize', 'https://www.bbc.co.uk/arts', 'https://www.bbc.co.uk/taster', 'https://www.bbc.co.uk/news/localnews', 'https://www.bbc.co.uk/bbcthree', 'https://search.bbc.co.uk/search', 'https://bbc.com/news', 'https://bbc.com/news/election/us2020', 'https://bbc.com/news/coronavirus', 'https://bbc.com/news/av/10462520', 'https://bbc.com/news/world', 'https://bbc.com/news/world/us_and_canada', 'https://bbc.com/news/uk', 'https://bbc.com/news/business', 'https://bbc.com/news/technology', 'https://bbc.com/news/science_and_environment', 'https://bbc.com/news/stories', 'https://bbc.com/news/entertainment_and_arts', 'https://bbc.com/news/health', 'https://bbc.com/news/in_pictures', 'https://bbc.com/news/reality_check', 'https://bbc.com/news/world_radio_and_tv', 'https://bbc.com/news/newsbeat', 'https://bbc.com/news/the_reporters', 'https://bbc.com/news/have_your_say', 'https://bbc.com/news/world/africa', 'https://bbc.com/news/world/asia', 'https://bbc.com/news/world/australia', 'https://bbc.com/news/world/europe', 'https://bbc.com/news/world/latin_america', 'https://bbc.com/news/world/middle_east', 'https://bbc.com/news/england', 'https://bbc.com/news/northern_ireland', 'https://bbc.com/news/scotland', 'https://bbc.com/news/wales', 'https://bbc.com/news/localnews', 'https://bbc.com/news/business/market-data', 'https://bbc.com/news/business-45489065', 'https://bbc.com/news/business-38507481', 'https://bbc.com/news/business/companies', 'https://bbc.com/news/business-22434141', 'https://bbc.com/news/business-11428889', 'https://bbc.com/news/business/economy', 'https://bbc.com/news/business-33712313', 'https://bbc.com/news/business/global_car_industry', 'https://bbc.com/news/business/business_of_sport', 'https://bbc.com/news/election-us-2020-54724957', 'https://bbc.com/news/election-us-2020-54743180', 'https://bbc.com/news/world-us-canada-54745441', 'https://www.bbc.com/news/election/us2020', 'https://bbc.com/news/election-us-2020-54742426', 'https://bbc.com/news/newsbeat-54739724', 'https://bbc.com/news/world-us-canada-54740177', 'https://www.bbc.com/news/election-us-2020-54678704', 'https://bbc.com/news/in-pictures-54735147', 'https://bbc.com/news/election-us-2020-54754652', 'https://bbc.com/news/world-54734073', 'https://bbc.com/news/health-54712940', 'https://www.bbc.co.uk/news/topics/cxqvep8kqext/long-reads', 'https://www.bbc.co.uk/news/extra/ztdfudx91d/the-boarding-school-monster-who-always-walked-free', 'https://www.bbc.co.uk/news/stories-54695418', 'https://www.bbc.co.uk/sport/54601706', 'https://bbc.com/news/world-54751920', 'https://www.bbc.com/future/article/20201028-the-benefits-of-coffee-is-coffee-good-for-health', 'http://www.bbc.com/future', 'https://www.bbc.com/worklife/article/20201029-the-biggest-unknowns-in-a-post-pandemic-work-world', 'http://www.bbc.com/worklife', 'https://www.bbc.com/travel/story/20201026-dosa-indias-wholesome-fast-food-obsession', 'http://www.bbc.com/travel', 'https://www.bbc.com/culture/article/20201029-10-films-to-watch-this-november', 'http://www.bbc.com/culture', 'https://www.bbc.com/earth/story/the-making-of-me-and-you', 'http://www.bbc.com/earth', 'https://www.bbc.com/future/article/20201027-the-fight-to-save-cape-cods-dolphins', 'https://www.bbc.com/worklife/article/20201021-coronavirus-the-possible-long-term-mental-health-impacts', 'http://www.bbc.co.uk/sport/0/', 'https://www.bbc.co.uk/sport/horse-racing/54695641', 'https://twitter.com/BBCWorld', 'https://www.facebook.com/bbcnews', 'https://www.instagram.com/bbcnews', 'http://pages.email.bbc.com/subscribe', 'http://www.bbc.com/news/10628994', 'https://twitter.com/BBC_HaveYourSay', 'http://www.bbc.co.uk/news/help-41670342', 'https://www.bbc.co.uk/usingthebbc/terms/', 'https://www.bbc.co.uk/aboutthebbc', 'https://www.bbc.co.uk/usingthebbc/privacy/', 'https://www.bbc.co.uk/usingthebbc/cookies/', 'https://www.bbc.co.uk/guidance', 'https://www.bbc.co.uk/contact', 'https://www.bbc.co.uk/bbcnewsletter', 'https://www.bbc.co.uk/help/web/links/', '/modules/sharetools/share?url=http://www.bbc.co.uk/accessibility/&appId=mwmw', 'https://ssl.bbc.co.uk/id/status', 'https://ssl.bbc.co.uk/id/settings', 'https://ssl.bbc.co.uk/id/signout', 'http://www.bbc.co.uk/news/', 'http://www.bbc.co.uk/sport/', 'http://www.bbc.co.uk/weather/', 'http://www.bbc.com/earth/', 'http://m.bbc.co.uk/']\n",
            "other_urls 2 ['https://www.bbc.co.uk/accessibility/', 'https://account.bbc.com/account', 'https://www.bbc.co.uk/news', 'https://www.bbc.co.uk/sport', 'https://www.bbc.co.uk/weather', 'https://www.bbc.co.uk/iplayer', 'https://www.bbc.co.uk/sounds', 'https://www.bbc.co.uk/cbbc', 'https://www.bbc.co.uk/cbeebies', 'https://www.bbc.co.uk/food', 'https://www.bbc.co.uk/bitesize', 'https://www.bbc.co.uk/arts', 'https://www.bbc.co.uk/taster', 'https://www.bbc.co.uk/news/localnews', 'https://www.bbc.co.uk/bbcthree', 'https://search.bbc.co.uk/search', 'https://bbc.com/news', 'https://bbc.com/news/election/us2020', 'https://bbc.com/news/coronavirus', 'https://bbc.com/news/av/10462520', 'https://bbc.com/news/world', 'https://bbc.com/news/world/us_and_canada', 'https://bbc.com/news/uk', 'https://bbc.com/news/business', 'https://bbc.com/news/technology', 'https://bbc.com/news/science_and_environment', 'https://bbc.com/news/stories', 'https://bbc.com/news/entertainment_and_arts', 'https://bbc.com/news/health', 'https://bbc.com/news/in_pictures', 'https://bbc.com/news/reality_check', 'https://bbc.com/news/world_radio_and_tv', 'https://bbc.com/news/newsbeat', 'https://bbc.com/news/the_reporters', 'https://bbc.com/news/have_your_say', 'https://bbc.com/news/world/africa', 'https://bbc.com/news/world/asia', 'https://bbc.com/news/world/australia', 'https://bbc.com/news/world/europe', 'https://bbc.com/news/world/latin_america', 'https://bbc.com/news/world/middle_east', 'https://bbc.com/news/england', 'https://bbc.com/news/northern_ireland', 'https://bbc.com/news/scotland', 'https://bbc.com/news/wales', 'https://bbc.com/news/localnews', 'https://bbc.com/news/business/market-data', 'https://bbc.com/news/business-45489065', 'https://bbc.com/news/business-38507481', 'https://bbc.com/news/business/companies', 'https://bbc.com/news/business-22434141', 'https://bbc.com/news/business-11428889', 'https://bbc.com/news/business/economy', 'https://bbc.com/news/business-33712313', 'https://bbc.com/news/business/global_car_industry', 'https://bbc.com/news/business/business_of_sport', 'https://bbc.com/news/election-us-2020-54724957', 'https://bbc.com/news/election-us-2020-54743180', 'https://bbc.com/news/world-us-canada-54745441', 'https://www.bbc.com/news/election/us2020', 'https://bbc.com/news/election-us-2020-54742426', 'https://bbc.com/news/newsbeat-54739724', 'https://bbc.com/news/world-us-canada-54740177', 'https://www.bbc.com/news/election-us-2020-54678704', 'https://bbc.com/news/in-pictures-54735147', 'https://bbc.com/news/election-us-2020-54754652', 'https://bbc.com/news/world-54734073', 'https://bbc.com/news/health-54712940', 'https://www.bbc.co.uk/news/topics/cxqvep8kqext/long-reads', 'https://www.bbc.co.uk/news/extra/ztdfudx91d/the-boarding-school-monster-who-always-walked-free', 'https://www.bbc.co.uk/news/stories-54695418', 'https://www.bbc.co.uk/sport/54601706', 'https://bbc.com/news/world-54751920', 'https://www.bbc.com/future/article/20201028-the-benefits-of-coffee-is-coffee-good-for-health', 'http://www.bbc.com/future', 'https://www.bbc.com/worklife/article/20201029-the-biggest-unknowns-in-a-post-pandemic-work-world', 'http://www.bbc.com/worklife', 'https://www.bbc.com/travel/story/20201026-dosa-indias-wholesome-fast-food-obsession', 'http://www.bbc.com/travel', 'https://www.bbc.com/culture/article/20201029-10-films-to-watch-this-november', 'http://www.bbc.com/culture', 'https://www.bbc.com/earth/story/the-making-of-me-and-you', 'http://www.bbc.com/earth', 'https://www.bbc.com/future/article/20201027-the-fight-to-save-cape-cods-dolphins', 'https://www.bbc.com/worklife/article/20201021-coronavirus-the-possible-long-term-mental-health-impacts', 'http://www.bbc.co.uk/sport/0/', 'https://www.bbc.co.uk/sport/horse-racing/54695641', 'https://twitter.com/BBCWorld', 'https://www.facebook.com/bbcnews', 'https://www.instagram.com/bbcnews', 'http://pages.email.bbc.com/subscribe', 'http://www.bbc.com/news/10628994', 'https://twitter.com/BBC_HaveYourSay', 'http://www.bbc.co.uk/news/help-41670342', 'https://www.bbc.co.uk/usingthebbc/terms/', 'https://www.bbc.co.uk/aboutthebbc', 'https://www.bbc.co.uk/usingthebbc/privacy/', 'https://www.bbc.co.uk/usingthebbc/cookies/', 'https://www.bbc.co.uk/guidance', 'https://www.bbc.co.uk/contact', 'https://www.bbc.co.uk/bbcnewsletter', 'https://www.bbc.co.uk/help/web/links/', '/modules/sharetools/share?url=http://www.bbc.co.uk/accessibility/&appId=mwmw', 'https://ssl.bbc.co.uk/id/status', 'https://ssl.bbc.co.uk/id/settings', 'https://ssl.bbc.co.uk/id/signout', 'http://www.bbc.co.uk/news/', 'http://www.bbc.co.uk/sport/', 'http://www.bbc.co.uk/weather/', 'http://www.bbc.com/earth/', 'http://m.bbc.co.uk/']\n",
            "other urls 0  ['https://account.bbc.com/account', 'https://www.bbc.co.uk/news', 'https://www.bbc.co.uk/sport', 'https://www.bbc.co.uk/weather', 'https://www.bbc.co.uk/iplayer', 'https://www.bbc.co.uk/sounds', 'https://www.bbc.co.uk/cbbc', 'https://www.bbc.co.uk/cbeebies', 'https://www.bbc.co.uk/food', 'https://www.bbc.co.uk/bitesize', 'https://www.bbc.co.uk/arts', 'https://www.bbc.co.uk/taster', 'https://www.bbc.co.uk/news/localnews', 'https://www.bbc.co.uk/bbcthree', 'https://search.bbc.co.uk/search', 'https://bbc.com/news', 'https://bbc.com/news/election/us2020', 'https://bbc.com/news/coronavirus', 'https://bbc.com/news/av/10462520', 'https://bbc.com/news/world', 'https://bbc.com/news/world/us_and_canada', 'https://bbc.com/news/uk', 'https://bbc.com/news/business', 'https://bbc.com/news/technology', 'https://bbc.com/news/science_and_environment', 'https://bbc.com/news/stories', 'https://bbc.com/news/entertainment_and_arts', 'https://bbc.com/news/health', 'https://bbc.com/news/in_pictures', 'https://bbc.com/news/reality_check', 'https://bbc.com/news/world_radio_and_tv', 'https://bbc.com/news/newsbeat', 'https://bbc.com/news/the_reporters', 'https://bbc.com/news/have_your_say', 'https://bbc.com/news/world/africa', 'https://bbc.com/news/world/asia', 'https://bbc.com/news/world/australia', 'https://bbc.com/news/world/europe', 'https://bbc.com/news/world/latin_america', 'https://bbc.com/news/world/middle_east', 'https://bbc.com/news/england', 'https://bbc.com/news/northern_ireland', 'https://bbc.com/news/scotland', 'https://bbc.com/news/wales', 'https://bbc.com/news/localnews', 'https://bbc.com/news/business/market-data', 'https://bbc.com/news/business-45489065', 'https://bbc.com/news/business-38507481', 'https://bbc.com/news/business/companies', 'https://bbc.com/news/business-22434141', 'https://bbc.com/news/business-11428889', 'https://bbc.com/news/business/economy', 'https://bbc.com/news/business-33712313', 'https://bbc.com/news/business/global_car_industry', 'https://bbc.com/news/business/business_of_sport', 'https://bbc.com/news/election-us-2020-54724957', 'https://bbc.com/news/election-us-2020-54743180', 'https://bbc.com/news/world-us-canada-54745441', 'https://www.bbc.com/news/election/us2020', 'https://bbc.com/news/election-us-2020-54742426', 'https://bbc.com/news/newsbeat-54739724', 'https://bbc.com/news/world-us-canada-54740177', 'https://www.bbc.com/news/election-us-2020-54678704', 'https://bbc.com/news/in-pictures-54735147', 'https://bbc.com/news/election-us-2020-54754652', 'https://bbc.com/news/world-54734073', 'https://bbc.com/news/health-54712940', 'https://www.bbc.co.uk/news/topics/cxqvep8kqext/long-reads', 'https://www.bbc.co.uk/news/extra/ztdfudx91d/the-boarding-school-monster-who-always-walked-free', 'https://www.bbc.co.uk/news/stories-54695418', 'https://www.bbc.co.uk/sport/54601706', 'https://bbc.com/news/world-54751920', 'https://www.bbc.com/future/article/20201028-the-benefits-of-coffee-is-coffee-good-for-health', 'http://www.bbc.com/future', 'https://www.bbc.com/worklife/article/20201029-the-biggest-unknowns-in-a-post-pandemic-work-world', 'http://www.bbc.com/worklife', 'https://www.bbc.com/travel/story/20201026-dosa-indias-wholesome-fast-food-obsession', 'http://www.bbc.com/travel', 'https://www.bbc.com/culture/article/20201029-10-films-to-watch-this-november', 'http://www.bbc.com/culture', 'https://www.bbc.com/earth/story/the-making-of-me-and-you', 'http://www.bbc.com/earth', 'https://www.bbc.com/future/article/20201027-the-fight-to-save-cape-cods-dolphins', 'https://www.bbc.com/worklife/article/20201021-coronavirus-the-possible-long-term-mental-health-impacts', 'http://www.bbc.co.uk/sport/0/', 'https://www.bbc.co.uk/sport/horse-racing/54695641', 'https://twitter.com/BBCWorld', 'https://www.facebook.com/bbcnews', 'https://www.instagram.com/bbcnews', 'http://pages.email.bbc.com/subscribe', 'http://www.bbc.com/news/10628994', 'https://twitter.com/BBC_HaveYourSay', 'http://www.bbc.co.uk/news/help-41670342', 'https://www.bbc.co.uk/usingthebbc/terms/', 'https://www.bbc.co.uk/aboutthebbc', 'https://www.bbc.co.uk/usingthebbc/privacy/', 'https://www.bbc.co.uk/usingthebbc/cookies/', 'https://www.bbc.co.uk/guidance', 'https://www.bbc.co.uk/contact', 'https://www.bbc.co.uk/bbcnewsletter', 'https://www.bbc.co.uk/help/web/links/', '/modules/sharetools/share?url=http://www.bbc.co.uk/accessibility/&appId=mwmw', 'https://ssl.bbc.co.uk/id/status', 'https://ssl.bbc.co.uk/id/settings', 'https://ssl.bbc.co.uk/id/signout', 'http://www.bbc.co.uk/news/', 'http://www.bbc.co.uk/sport/', 'http://www.bbc.co.uk/weather/', 'http://www.bbc.com/earth/', 'http://m.bbc.co.uk/']\n",
            "links  ['https://www.bbc.co.uk', 'https://www.bbc.co.uk/accessibility/', 'https://account.bbc.com/account', 'https://www.bbc.co.uk', 'https://www.bbc.co.uk/news', 'https://www.bbc.co.uk/sport', 'https://www.bbc.co.uk/weather', 'https://www.bbc.co.uk/iplayer', 'https://www.bbc.co.uk/sounds', 'https://www.bbc.co.uk/cbbc', 'https://www.bbc.co.uk/cbeebies', 'https://www.bbc.co.uk/food', 'https://www.bbc.co.uk/bitesize', 'https://www.bbc.co.uk/arts', 'https://www.bbc.co.uk/taster', 'https://www.bbc.co.uk/news/localnews', 'https://www.bbc.co.uk/bbcthree', 'https://search.bbc.co.uk/search', 'https://bbc.com/news', 'https://bbc.com/news', 'https://bbc.com/news/election/us2020', 'https://bbc.com/news/coronavirus', 'https://bbc.com/news/av/10462520', 'https://bbc.com/news/world', 'https://bbc.com/news/world/us_and_canada', 'https://bbc.com/news/uk', 'https://bbc.com/news/business', 'https://bbc.com/news/technology', 'https://bbc.com/news/science_and_environment', 'https://bbc.com/news/stories', 'https://bbc.com/news/entertainment_and_arts', 'https://bbc.com/news/health', 'https://bbc.com/news/in_pictures', 'https://bbc.com/news/reality_check', 'https://bbc.com/news/world_radio_and_tv', 'https://bbc.com/news/newsbeat', 'https://bbc.com/news/the_reporters', 'https://bbc.com/news', 'https://bbc.com/news/election/us2020', 'https://bbc.com/news/coronavirus', 'https://bbc.com/news/coronavirus', 'https://bbc.com/news/have_your_say', 'https://bbc.com/news/av/10462520', 'https://bbc.com/news/world', 'https://bbc.com/news/world', 'https://bbc.com/news/world/africa', 'https://bbc.com/news/world/asia', 'https://bbc.com/news/world/australia', 'https://bbc.com/news/world/europe', 'https://bbc.com/news/world/latin_america', 'https://bbc.com/news/world/middle_east', 'https://bbc.com/news/world/us_and_canada', 'https://bbc.com/news/uk', 'https://bbc.com/news/uk', 'https://bbc.com/news/england', 'https://bbc.com/news/northern_ireland', 'https://bbc.com/news/scotland', 'https://bbc.com/news/wales', 'https://bbc.com/news/localnews', 'https://bbc.com/news/business', 'https://bbc.com/news/business', 'https://bbc.com/news/business/market-data', 'https://bbc.com/news/business-45489065', 'https://bbc.com/news/business-38507481', 'https://bbc.com/news/business/companies', 'https://bbc.com/news/business-22434141', 'https://bbc.com/news/business-11428889', 'https://bbc.com/news/business/economy', 'https://bbc.com/news/business-33712313', 'https://bbc.com/news/business/global_car_industry', 'https://bbc.com/news/business/business_of_sport', 'https://bbc.com/news/technology', 'https://bbc.com/news/science_and_environment', 'https://bbc.com/news/stories', 'https://bbc.com/news/entertainment_and_arts', 'https://bbc.com/news/health', 'https://bbc.com/news/health', 'https://bbc.com/news/coronavirus', 'https://bbc.com/news/in_pictures', 'https://bbc.com/news/reality_check', 'https://bbc.com/news/world_radio_and_tv', 'https://bbc.com/news/newsbeat', 'https://bbc.com/news/the_reporters', 'https://bbc.com/news/election-us-2020-54756915', 'https://bbc.com/news/election/us2020', 'https://bbc.com/news/election-us-2020-54756915', 'https://bbc.com/news/election/us2020', 'https://bbc.com/news/election-us-2020-54724957', 'https://bbc.com/news/election-us-2020-53657174', 'https://bbc.com/news/world-us-canada-54665375', 'https://bbc.com/news/world-us-canada-54751759', 'https://bbc.com/news/world/us_and_canada', 'https://bbc.com/news/election-us-2020-54746989', 'https://bbc.com/news/election/us2020', 'https://bbc.com/news/election-us-2020-54743180', 'https://bbc.com/news/election/us2020', 'https://bbc.com/news/election-us-2020-54724957', 'https://bbc.com/news/election/us2020', 'https://bbc.com/news/world-us-canada-54752228', 'https://bbc.com/news/world/us_and_canada', 'https://bbc.com/news/world-us-canada-54745441', 'https://bbc.com/news/world/us_and_canada', 'https://bbc.com/news/world-us-canada-54752188', 'https://bbc.com/news/world/us_and_canada', 'https://bbc.com/news/world-us-canada-54752043', 'https://bbc.com/news/world/us_and_canada', 'https://bbc.com/news/world-europe-54747020', 'https://bbc.com/news/world/europe', 'https://bbc.com/news/world-europe-54749509', 'https://bbc.com/news/world/europe', 'https://bbc.com/news/world-europe-54747020', 'https://bbc.com/news/world/europe', 'https://bbc.com/news/world-europe-54749509', 'https://bbc.com/news/world/europe', 'https://bbc.com/news/world-us-canada-54747625', 'https://bbc.com/news/world/us_and_canada', 'https://bbc.com/news/world-europe-54745251', 'https://bbc.com/news/world/europe', 'https://bbc.com/news/world-us-canada-54742919', 'https://bbc.com/news/world/us_and_canada', 'https://www.bbc.com/news/election/us2020', 'https://www.bbc.com/news/election/us2020', 'https://bbc.com/news/election-us-2020-54742426', 'https://bbc.com/news/election-us-2020-54731172', 'https://bbc.com/news/world-54553132', 'https://bbc.com/news/newsbeat-54739724', 'https://bbc.com/news/world-us-canada-54740177', 'https://www.bbc.com/news/election-us-2020-54678704', 'https://bbc.com/news/world_radio_and_tv', 'https://bbc.com/news/entertainment-arts-54731382', 'https://bbc.com/news/in-pictures-54735147', 'https://bbc.com/news/election-us-2020-54754652', 'https://bbc.com/news/entertainment-arts-54751598', 'https://bbc.com/news/world-54734073', 'https://bbc.com/news/world-us-canada-54745441', 'https://bbc.com/news/health-54712940', 'https://bbc.com/news/world-us-canada-54740177', 'https://bbc.com/news/newsbeat-54739724', 'https://bbc.com/news/election-us-2020-54743180', 'https://bbc.com/news/business-54688474', 'https://bbc.com/news/world-europe-54734371', 'https://bbc.com/news/world-asia-54730487', 'https://bbc.com/news/world-asia-india-54688795', 'https://bbc.com/news/business-54549612', 'https://bbc.com/news/world-africa-54713138', 'https://www.bbc.co.uk/news/topics/cxqvep8kqext/long-reads', 'https://www.bbc.co.uk/news/topics/cxqvep8kqext/long-reads', 'https://www.bbc.co.uk/news/extra/ztdfudx91d/the-boarding-school-monster-who-always-walked-free', 'https://www.bbc.co.uk/news/stories-54695418', 'https://www.bbc.co.uk/news/stories-54623417', 'https://www.bbc.co.uk/news/stories-54613947', 'https://www.bbc.co.uk/sport/54601706', 'https://bbc.com/news/world-us-canada-54752188', 'https://bbc.com/news/entertainment-arts-54746397', 'https://bbc.com/news/election-us-2020-54756915', 'https://bbc.com/news/world-us-canada-54751759', 'https://bbc.com/news/election-us-2020-53657174', 'https://bbc.com/news/health-54750775', 'https://bbc.com/news/world-europe-54749509', 'https://bbc.com/news/world-us-canada-54752228', 'https://bbc.com/news/world-54751920', 'https://bbc.com/news/world-us-canada-54747625', 'https://www.bbc.com/future/article/20201028-the-benefits-of-coffee-is-coffee-good-for-health', 'http://www.bbc.com/future', 'https://www.bbc.com/worklife/article/20201029-the-biggest-unknowns-in-a-post-pandemic-work-world', 'http://www.bbc.com/worklife', 'https://www.bbc.com/travel/story/20201026-dosa-indias-wholesome-fast-food-obsession', 'http://www.bbc.com/travel', 'https://www.bbc.com/culture/article/20201029-10-films-to-watch-this-november', 'http://www.bbc.com/culture', 'https://www.bbc.com/earth/story/the-making-of-me-and-you', 'http://www.bbc.com/earth', 'https://www.bbc.com/future/article/20201027-the-fight-to-save-cape-cods-dolphins', 'http://www.bbc.com/future', 'https://www.bbc.com/worklife/article/20201021-coronavirus-the-possible-long-term-mental-health-impacts', 'http://www.bbc.com/worklife', 'http://www.bbc.co.uk/sport/0/', 'http://www.bbc.co.uk/sport/0/', 'https://www.bbc.co.uk/sport/horse-racing/54695641', 'https://twitter.com/BBCWorld', 'https://www.facebook.com/bbcnews', 'https://www.instagram.com/bbcnews', 'http://pages.email.bbc.com/subscribe', 'http://www.bbc.com/news/10628994', 'https://twitter.com/BBC_HaveYourSay', 'http://www.bbc.co.uk/news/help-41670342', 'https://bbc.com/news', 'https://bbc.com/news/election/us2020', 'https://bbc.com/news/coronavirus', 'https://bbc.com/news/coronavirus', 'https://bbc.com/news/have_your_say', 'https://bbc.com/news/av/10462520', 'https://bbc.com/news/world', 'https://bbc.com/news/world', 'https://bbc.com/news/world/africa', 'https://bbc.com/news/world/asia', 'https://bbc.com/news/world/australia', 'https://bbc.com/news/world/europe', 'https://bbc.com/news/world/latin_america', 'https://bbc.com/news/world/middle_east', 'https://bbc.com/news/world/us_and_canada', 'https://bbc.com/news/uk', 'https://bbc.com/news/uk', 'https://bbc.com/news/england', 'https://bbc.com/news/northern_ireland', 'https://bbc.com/news/scotland', 'https://bbc.com/news/wales', 'https://bbc.com/news/localnews', 'https://bbc.com/news/business', 'https://bbc.com/news/business', 'https://bbc.com/news/business/market-data', 'https://bbc.com/news/business-45489065', 'https://bbc.com/news/business-38507481', 'https://bbc.com/news/business/companies', 'https://bbc.com/news/business-22434141', 'https://bbc.com/news/business-11428889', 'https://bbc.com/news/business/economy', 'https://bbc.com/news/business-33712313', 'https://bbc.com/news/business/global_car_industry', 'https://bbc.com/news/business/business_of_sport', 'https://bbc.com/news/technology', 'https://bbc.com/news/science_and_environment', 'https://bbc.com/news/stories', 'https://bbc.com/news/entertainment_and_arts', 'https://bbc.com/news/health', 'https://bbc.com/news/health', 'https://bbc.com/news/coronavirus', 'https://bbc.com/news/in_pictures', 'https://bbc.com/news/reality_check', 'https://bbc.com/news/world_radio_and_tv', 'https://bbc.com/news/newsbeat', 'https://bbc.com/news/the_reporters', 'https://www.bbc.co.uk', 'https://www.bbc.co.uk/news', 'https://www.bbc.co.uk/sport', 'https://www.bbc.co.uk/weather', 'https://www.bbc.co.uk/iplayer', 'https://www.bbc.co.uk/sounds', 'https://www.bbc.co.uk/cbbc', 'https://www.bbc.co.uk/cbeebies', 'https://www.bbc.co.uk/food', 'https://www.bbc.co.uk/bitesize', 'https://www.bbc.co.uk/arts', 'https://www.bbc.co.uk/taster', 'https://www.bbc.co.uk/news/localnews', 'https://www.bbc.co.uk/bbcthree', 'https://www.bbc.co.uk/usingthebbc/terms/', 'https://www.bbc.co.uk/aboutthebbc', 'https://www.bbc.co.uk/usingthebbc/privacy/', 'https://www.bbc.co.uk/usingthebbc/cookies/', 'https://www.bbc.co.uk/accessibility/', 'https://www.bbc.co.uk/guidance', 'https://www.bbc.co.uk/contact', 'https://www.bbc.co.uk/bbcnewsletter', 'https://www.bbc.co.uk/help/web/links/']\n",
            "news_urls 1 ['https://bbc.com/news/election-us-2020-54756915', 'https://bbc.com/news/election-us-2020-54756915', 'https://bbc.com/news/election-us-2020-53657174', 'https://bbc.com/news/world-us-canada-54665375', 'https://bbc.com/news/world-us-canada-54751759', 'https://bbc.com/news/election-us-2020-54746989', 'https://bbc.com/news/world-us-canada-54752228', 'https://bbc.com/news/world-us-canada-54752188', 'https://bbc.com/news/world-us-canada-54752043', 'https://bbc.com/news/world-europe-54747020', 'https://bbc.com/news/world-europe-54749509', 'https://bbc.com/news/world-europe-54747020', 'https://bbc.com/news/world-europe-54749509', 'https://bbc.com/news/world-us-canada-54747625', 'https://bbc.com/news/world-europe-54745251', 'https://bbc.com/news/world-us-canada-54742919', 'https://bbc.com/news/election-us-2020-54731172', 'https://bbc.com/news/world-54553132', 'https://bbc.com/news/entertainment-arts-54731382', 'https://bbc.com/news/entertainment-arts-54751598', 'https://bbc.com/news/business-54688474', 'https://bbc.com/news/world-europe-54734371', 'https://bbc.com/news/world-asia-54730487', 'https://bbc.com/news/world-asia-india-54688795', 'https://bbc.com/news/business-54549612', 'https://bbc.com/news/world-africa-54713138', 'https://www.bbc.co.uk/news/stories-54623417', 'https://www.bbc.co.uk/news/stories-54613947', 'https://bbc.com/news/world-us-canada-54752188', 'https://bbc.com/news/entertainment-arts-54746397', 'https://bbc.com/news/election-us-2020-54756915', 'https://bbc.com/news/world-us-canada-54751759', 'https://bbc.com/news/election-us-2020-53657174', 'https://bbc.com/news/health-54750775', 'https://bbc.com/news/world-europe-54749509', 'https://bbc.com/news/world-us-canada-54752228', 'https://bbc.com/news/world-us-canada-54747625', 'https://bbc.com/news/election-us-2020-54756915', 'https://bbc.com/news/election-us-2020-54756915', 'https://bbc.com/news/election-us-2020-53657174', 'https://bbc.com/news/world-us-canada-54665375', 'https://bbc.com/news/world-us-canada-54751759', 'https://bbc.com/news/election-us-2020-54746989', 'https://bbc.com/news/world-us-canada-54752228', 'https://bbc.com/news/world-us-canada-54752188', 'https://bbc.com/news/world-us-canada-54752043', 'https://bbc.com/news/world-europe-54747020', 'https://bbc.com/news/world-europe-54749509', 'https://bbc.com/news/world-europe-54747020', 'https://bbc.com/news/world-europe-54749509', 'https://bbc.com/news/world-us-canada-54747625', 'https://bbc.com/news/world-europe-54745251', 'https://bbc.com/news/world-us-canada-54742919', 'https://bbc.com/news/election-us-2020-54731172', 'https://bbc.com/news/world-54553132', 'https://bbc.com/news/entertainment-arts-54731382', 'https://bbc.com/news/entertainment-arts-54751598', 'https://bbc.com/news/business-54688474', 'https://bbc.com/news/world-europe-54734371', 'https://bbc.com/news/world-asia-54730487', 'https://bbc.com/news/world-asia-india-54688795', 'https://bbc.com/news/business-54549612', 'https://bbc.com/news/world-africa-54713138', 'https://www.bbc.co.uk/news/stories-54623417', 'https://www.bbc.co.uk/news/stories-54613947', 'https://bbc.com/news/world-us-canada-54752188', 'https://bbc.com/news/entertainment-arts-54746397', 'https://bbc.com/news/election-us-2020-54756915', 'https://bbc.com/news/world-us-canada-54751759', 'https://bbc.com/news/election-us-2020-53657174', 'https://bbc.com/news/health-54750775', 'https://bbc.com/news/world-europe-54749509', 'https://bbc.com/news/world-us-canada-54752228', 'https://bbc.com/news/world-us-canada-54747625']\n",
            "other_urls 1 ['https://account.bbc.com/account', 'https://www.bbc.co.uk/news', 'https://www.bbc.co.uk/sport', 'https://www.bbc.co.uk/weather', 'https://www.bbc.co.uk/iplayer', 'https://www.bbc.co.uk/sounds', 'https://www.bbc.co.uk/cbbc', 'https://www.bbc.co.uk/cbeebies', 'https://www.bbc.co.uk/food', 'https://www.bbc.co.uk/bitesize', 'https://www.bbc.co.uk/arts', 'https://www.bbc.co.uk/taster', 'https://www.bbc.co.uk/news/localnews', 'https://www.bbc.co.uk/bbcthree', 'https://search.bbc.co.uk/search', 'https://bbc.com/news', 'https://bbc.com/news/election/us2020', 'https://bbc.com/news/coronavirus', 'https://bbc.com/news/av/10462520', 'https://bbc.com/news/world', 'https://bbc.com/news/world/us_and_canada', 'https://bbc.com/news/uk', 'https://bbc.com/news/business', 'https://bbc.com/news/technology', 'https://bbc.com/news/science_and_environment', 'https://bbc.com/news/stories', 'https://bbc.com/news/entertainment_and_arts', 'https://bbc.com/news/health', 'https://bbc.com/news/in_pictures', 'https://bbc.com/news/reality_check', 'https://bbc.com/news/world_radio_and_tv', 'https://bbc.com/news/newsbeat', 'https://bbc.com/news/the_reporters', 'https://bbc.com/news/have_your_say', 'https://bbc.com/news/world/africa', 'https://bbc.com/news/world/asia', 'https://bbc.com/news/world/australia', 'https://bbc.com/news/world/europe', 'https://bbc.com/news/world/latin_america', 'https://bbc.com/news/world/middle_east', 'https://bbc.com/news/england', 'https://bbc.com/news/northern_ireland', 'https://bbc.com/news/scotland', 'https://bbc.com/news/wales', 'https://bbc.com/news/localnews', 'https://bbc.com/news/business/market-data', 'https://bbc.com/news/business-45489065', 'https://bbc.com/news/business-38507481', 'https://bbc.com/news/business/companies', 'https://bbc.com/news/business-22434141', 'https://bbc.com/news/business-11428889', 'https://bbc.com/news/business/economy', 'https://bbc.com/news/business-33712313', 'https://bbc.com/news/business/global_car_industry', 'https://bbc.com/news/business/business_of_sport', 'https://bbc.com/news/election-us-2020-54724957', 'https://bbc.com/news/election-us-2020-54743180', 'https://bbc.com/news/world-us-canada-54745441', 'https://www.bbc.com/news/election/us2020', 'https://bbc.com/news/election-us-2020-54742426', 'https://bbc.com/news/newsbeat-54739724', 'https://bbc.com/news/world-us-canada-54740177', 'https://www.bbc.com/news/election-us-2020-54678704', 'https://bbc.com/news/in-pictures-54735147', 'https://bbc.com/news/election-us-2020-54754652', 'https://bbc.com/news/world-54734073', 'https://bbc.com/news/health-54712940', 'https://www.bbc.co.uk/news/topics/cxqvep8kqext/long-reads', 'https://www.bbc.co.uk/news/extra/ztdfudx91d/the-boarding-school-monster-who-always-walked-free', 'https://www.bbc.co.uk/news/stories-54695418', 'https://www.bbc.co.uk/sport/54601706', 'https://bbc.com/news/world-54751920', 'https://www.bbc.com/future/article/20201028-the-benefits-of-coffee-is-coffee-good-for-health', 'http://www.bbc.com/future', 'https://www.bbc.com/worklife/article/20201029-the-biggest-unknowns-in-a-post-pandemic-work-world', 'http://www.bbc.com/worklife', 'https://www.bbc.com/travel/story/20201026-dosa-indias-wholesome-fast-food-obsession', 'http://www.bbc.com/travel', 'https://www.bbc.com/culture/article/20201029-10-films-to-watch-this-november', 'http://www.bbc.com/culture', 'https://www.bbc.com/earth/story/the-making-of-me-and-you', 'http://www.bbc.com/earth', 'https://www.bbc.com/future/article/20201027-the-fight-to-save-cape-cods-dolphins', 'https://www.bbc.com/worklife/article/20201021-coronavirus-the-possible-long-term-mental-health-impacts', 'http://www.bbc.co.uk/sport/0/', 'https://www.bbc.co.uk/sport/horse-racing/54695641', 'https://twitter.com/BBCWorld', 'https://www.facebook.com/bbcnews', 'https://www.instagram.com/bbcnews', 'http://pages.email.bbc.com/subscribe', 'http://www.bbc.com/news/10628994', 'https://twitter.com/BBC_HaveYourSay', 'http://www.bbc.co.uk/news/help-41670342', 'https://www.bbc.co.uk/usingthebbc/terms/', 'https://www.bbc.co.uk/aboutthebbc', 'https://www.bbc.co.uk/usingthebbc/privacy/', 'https://www.bbc.co.uk/usingthebbc/cookies/', 'https://www.bbc.co.uk/guidance', 'https://www.bbc.co.uk/contact', 'https://www.bbc.co.uk/bbcnewsletter', 'https://www.bbc.co.uk/help/web/links/', '/modules/sharetools/share?url=http://www.bbc.co.uk/accessibility/&appId=mwmw', 'https://ssl.bbc.co.uk/id/status', 'https://ssl.bbc.co.uk/id/settings', 'https://ssl.bbc.co.uk/id/signout', 'http://www.bbc.co.uk/news/', 'http://www.bbc.co.uk/sport/', 'http://www.bbc.co.uk/weather/', 'http://www.bbc.com/earth/', 'http://m.bbc.co.uk/', 'https://www.bbc.co.uk', 'https://www.bbc.co.uk/accessibility/', 'https://account.bbc.com/account', 'https://www.bbc.co.uk', 'https://www.bbc.co.uk/news', 'https://www.bbc.co.uk/sport', 'https://www.bbc.co.uk/weather', 'https://www.bbc.co.uk/iplayer', 'https://www.bbc.co.uk/sounds', 'https://www.bbc.co.uk/cbbc', 'https://www.bbc.co.uk/cbeebies', 'https://www.bbc.co.uk/food', 'https://www.bbc.co.uk/bitesize', 'https://www.bbc.co.uk/arts', 'https://www.bbc.co.uk/taster', 'https://www.bbc.co.uk/news/localnews', 'https://www.bbc.co.uk/bbcthree', 'https://search.bbc.co.uk/search', 'https://bbc.com/news', 'https://bbc.com/news', 'https://bbc.com/news/election/us2020', 'https://bbc.com/news/coronavirus', 'https://bbc.com/news/av/10462520', 'https://bbc.com/news/world', 'https://bbc.com/news/world/us_and_canada', 'https://bbc.com/news/uk', 'https://bbc.com/news/business', 'https://bbc.com/news/technology', 'https://bbc.com/news/science_and_environment', 'https://bbc.com/news/stories', 'https://bbc.com/news/entertainment_and_arts', 'https://bbc.com/news/health', 'https://bbc.com/news/in_pictures', 'https://bbc.com/news/reality_check', 'https://bbc.com/news/world_radio_and_tv', 'https://bbc.com/news/newsbeat', 'https://bbc.com/news/the_reporters', 'https://bbc.com/news', 'https://bbc.com/news/election/us2020', 'https://bbc.com/news/coronavirus', 'https://bbc.com/news/coronavirus', 'https://bbc.com/news/have_your_say', 'https://bbc.com/news/av/10462520', 'https://bbc.com/news/world', 'https://bbc.com/news/world', 'https://bbc.com/news/world/africa', 'https://bbc.com/news/world/asia', 'https://bbc.com/news/world/australia', 'https://bbc.com/news/world/europe', 'https://bbc.com/news/world/latin_america', 'https://bbc.com/news/world/middle_east', 'https://bbc.com/news/world/us_and_canada', 'https://bbc.com/news/uk', 'https://bbc.com/news/uk', 'https://bbc.com/news/england', 'https://bbc.com/news/northern_ireland', 'https://bbc.com/news/scotland', 'https://bbc.com/news/wales', 'https://bbc.com/news/localnews', 'https://bbc.com/news/business', 'https://bbc.com/news/business', 'https://bbc.com/news/business/market-data', 'https://bbc.com/news/business-45489065', 'https://bbc.com/news/business-38507481', 'https://bbc.com/news/business/companies', 'https://bbc.com/news/business-22434141', 'https://bbc.com/news/business-11428889', 'https://bbc.com/news/business/economy', 'https://bbc.com/news/business-33712313', 'https://bbc.com/news/business/global_car_industry', 'https://bbc.com/news/business/business_of_sport', 'https://bbc.com/news/technology', 'https://bbc.com/news/science_and_environment', 'https://bbc.com/news/stories', 'https://bbc.com/news/entertainment_and_arts', 'https://bbc.com/news/health', 'https://bbc.com/news/health', 'https://bbc.com/news/coronavirus', 'https://bbc.com/news/in_pictures', 'https://bbc.com/news/reality_check', 'https://bbc.com/news/world_radio_and_tv', 'https://bbc.com/news/newsbeat', 'https://bbc.com/news/the_reporters', 'https://bbc.com/news/election/us2020', 'https://bbc.com/news/election/us2020', 'https://bbc.com/news/election-us-2020-54724957', 'https://bbc.com/news/world/us_and_canada', 'https://bbc.com/news/election/us2020', 'https://bbc.com/news/election-us-2020-54743180', 'https://bbc.com/news/election/us2020', 'https://bbc.com/news/election-us-2020-54724957', 'https://bbc.com/news/election/us2020', 'https://bbc.com/news/world/us_and_canada', 'https://bbc.com/news/world-us-canada-54745441', 'https://bbc.com/news/world/us_and_canada', 'https://bbc.com/news/world/us_and_canada', 'https://bbc.com/news/world/us_and_canada', 'https://bbc.com/news/world/europe', 'https://bbc.com/news/world/europe', 'https://bbc.com/news/world/europe', 'https://bbc.com/news/world/europe', 'https://bbc.com/news/world/us_and_canada', 'https://bbc.com/news/world/europe', 'https://bbc.com/news/world/us_and_canada', 'https://www.bbc.com/news/election/us2020', 'https://www.bbc.com/news/election/us2020', 'https://bbc.com/news/election-us-2020-54742426', 'https://bbc.com/news/newsbeat-54739724', 'https://bbc.com/news/world-us-canada-54740177', 'https://www.bbc.com/news/election-us-2020-54678704', 'https://bbc.com/news/world_radio_and_tv', 'https://bbc.com/news/in-pictures-54735147', 'https://bbc.com/news/election-us-2020-54754652', 'https://bbc.com/news/world-54734073', 'https://bbc.com/news/world-us-canada-54745441', 'https://bbc.com/news/health-54712940', 'https://bbc.com/news/world-us-canada-54740177', 'https://bbc.com/news/newsbeat-54739724', 'https://bbc.com/news/election-us-2020-54743180', 'https://www.bbc.co.uk/news/topics/cxqvep8kqext/long-reads', 'https://www.bbc.co.uk/news/topics/cxqvep8kqext/long-reads', 'https://www.bbc.co.uk/news/extra/ztdfudx91d/the-boarding-school-monster-who-always-walked-free', 'https://www.bbc.co.uk/news/stories-54695418', 'https://www.bbc.co.uk/sport/54601706', 'https://bbc.com/news/world-54751920', 'https://www.bbc.com/future/article/20201028-the-benefits-of-coffee-is-coffee-good-for-health', 'http://www.bbc.com/future', 'https://www.bbc.com/worklife/article/20201029-the-biggest-unknowns-in-a-post-pandemic-work-world', 'http://www.bbc.com/worklife', 'https://www.bbc.com/travel/story/20201026-dosa-indias-wholesome-fast-food-obsession', 'http://www.bbc.com/travel', 'https://www.bbc.com/culture/article/20201029-10-films-to-watch-this-november', 'http://www.bbc.com/culture', 'https://www.bbc.com/earth/story/the-making-of-me-and-you', 'http://www.bbc.com/earth', 'https://www.bbc.com/future/article/20201027-the-fight-to-save-cape-cods-dolphins', 'http://www.bbc.com/future', 'https://www.bbc.com/worklife/article/20201021-coronavirus-the-possible-long-term-mental-health-impacts', 'http://www.bbc.com/worklife', 'http://www.bbc.co.uk/sport/0/', 'http://www.bbc.co.uk/sport/0/', 'https://www.bbc.co.uk/sport/horse-racing/54695641', 'https://twitter.com/BBCWorld', 'https://www.facebook.com/bbcnews', 'https://www.instagram.com/bbcnews', 'http://pages.email.bbc.com/subscribe', 'http://www.bbc.com/news/10628994', 'https://twitter.com/BBC_HaveYourSay', 'http://www.bbc.co.uk/news/help-41670342', 'https://bbc.com/news', 'https://bbc.com/news/election/us2020', 'https://bbc.com/news/coronavirus', 'https://bbc.com/news/coronavirus', 'https://bbc.com/news/have_your_say', 'https://bbc.com/news/av/10462520', 'https://bbc.com/news/world', 'https://bbc.com/news/world', 'https://bbc.com/news/world/africa', 'https://bbc.com/news/world/asia', 'https://bbc.com/news/world/australia', 'https://bbc.com/news/world/europe', 'https://bbc.com/news/world/latin_america', 'https://bbc.com/news/world/middle_east', 'https://bbc.com/news/world/us_and_canada', 'https://bbc.com/news/uk', 'https://bbc.com/news/uk', 'https://bbc.com/news/england', 'https://bbc.com/news/northern_ireland', 'https://bbc.com/news/scotland', 'https://bbc.com/news/wales', 'https://bbc.com/news/localnews', 'https://bbc.com/news/business', 'https://bbc.com/news/business', 'https://bbc.com/news/business/market-data', 'https://bbc.com/news/business-45489065', 'https://bbc.com/news/business-38507481', 'https://bbc.com/news/business/companies', 'https://bbc.com/news/business-22434141', 'https://bbc.com/news/business-11428889', 'https://bbc.com/news/business/economy', 'https://bbc.com/news/business-33712313', 'https://bbc.com/news/business/global_car_industry', 'https://bbc.com/news/business/business_of_sport', 'https://bbc.com/news/technology', 'https://bbc.com/news/science_and_environment', 'https://bbc.com/news/stories', 'https://bbc.com/news/entertainment_and_arts', 'https://bbc.com/news/health', 'https://bbc.com/news/health', 'https://bbc.com/news/coronavirus', 'https://bbc.com/news/in_pictures', 'https://bbc.com/news/reality_check', 'https://bbc.com/news/world_radio_and_tv', 'https://bbc.com/news/newsbeat', 'https://bbc.com/news/the_reporters', 'https://www.bbc.co.uk', 'https://www.bbc.co.uk/news', 'https://www.bbc.co.uk/sport', 'https://www.bbc.co.uk/weather', 'https://www.bbc.co.uk/iplayer', 'https://www.bbc.co.uk/sounds', 'https://www.bbc.co.uk/cbbc', 'https://www.bbc.co.uk/cbeebies', 'https://www.bbc.co.uk/food', 'https://www.bbc.co.uk/bitesize', 'https://www.bbc.co.uk/arts', 'https://www.bbc.co.uk/taster', 'https://www.bbc.co.uk/news/localnews', 'https://www.bbc.co.uk/bbcthree', 'https://www.bbc.co.uk/usingthebbc/terms/', 'https://www.bbc.co.uk/aboutthebbc', 'https://www.bbc.co.uk/usingthebbc/privacy/', 'https://www.bbc.co.uk/usingthebbc/cookies/', 'https://www.bbc.co.uk/accessibility/', 'https://www.bbc.co.uk/guidance', 'https://www.bbc.co.uk/contact', 'https://www.bbc.co.uk/bbcnewsletter', 'https://www.bbc.co.uk/help/web/links/']\n",
            "other_urls 2 ['https://account.bbc.com/account', 'https://www.bbc.co.uk/news', 'https://www.bbc.co.uk/sport', 'https://www.bbc.co.uk/weather', 'https://www.bbc.co.uk/iplayer', 'https://www.bbc.co.uk/sounds', 'https://www.bbc.co.uk/cbbc', 'https://www.bbc.co.uk/cbeebies', 'https://www.bbc.co.uk/food', 'https://www.bbc.co.uk/bitesize', 'https://www.bbc.co.uk/arts', 'https://www.bbc.co.uk/taster', 'https://www.bbc.co.uk/news/localnews', 'https://www.bbc.co.uk/bbcthree', 'https://search.bbc.co.uk/search', 'https://bbc.com/news', 'https://bbc.com/news/election/us2020', 'https://bbc.com/news/coronavirus', 'https://bbc.com/news/av/10462520', 'https://bbc.com/news/world', 'https://bbc.com/news/world/us_and_canada', 'https://bbc.com/news/uk', 'https://bbc.com/news/business', 'https://bbc.com/news/technology', 'https://bbc.com/news/science_and_environment', 'https://bbc.com/news/stories', 'https://bbc.com/news/entertainment_and_arts', 'https://bbc.com/news/health', 'https://bbc.com/news/in_pictures', 'https://bbc.com/news/reality_check', 'https://bbc.com/news/world_radio_and_tv', 'https://bbc.com/news/newsbeat', 'https://bbc.com/news/the_reporters', 'https://bbc.com/news/have_your_say', 'https://bbc.com/news/world/africa', 'https://bbc.com/news/world/asia', 'https://bbc.com/news/world/australia', 'https://bbc.com/news/world/europe', 'https://bbc.com/news/world/latin_america', 'https://bbc.com/news/world/middle_east', 'https://bbc.com/news/england', 'https://bbc.com/news/northern_ireland', 'https://bbc.com/news/scotland', 'https://bbc.com/news/wales', 'https://bbc.com/news/localnews', 'https://bbc.com/news/business/market-data', 'https://bbc.com/news/business-45489065', 'https://bbc.com/news/business-38507481', 'https://bbc.com/news/business/companies', 'https://bbc.com/news/business-22434141', 'https://bbc.com/news/business-11428889', 'https://bbc.com/news/business/economy', 'https://bbc.com/news/business-33712313', 'https://bbc.com/news/business/global_car_industry', 'https://bbc.com/news/business/business_of_sport', 'https://bbc.com/news/election-us-2020-54724957', 'https://bbc.com/news/election-us-2020-54743180', 'https://bbc.com/news/world-us-canada-54745441', 'https://www.bbc.com/news/election/us2020', 'https://bbc.com/news/election-us-2020-54742426', 'https://bbc.com/news/newsbeat-54739724', 'https://bbc.com/news/world-us-canada-54740177', 'https://www.bbc.com/news/election-us-2020-54678704', 'https://bbc.com/news/in-pictures-54735147', 'https://bbc.com/news/election-us-2020-54754652', 'https://bbc.com/news/world-54734073', 'https://bbc.com/news/health-54712940', 'https://www.bbc.co.uk/news/topics/cxqvep8kqext/long-reads', 'https://www.bbc.co.uk/news/extra/ztdfudx91d/the-boarding-school-monster-who-always-walked-free', 'https://www.bbc.co.uk/news/stories-54695418', 'https://www.bbc.co.uk/sport/54601706', 'https://bbc.com/news/world-54751920', 'https://www.bbc.com/future/article/20201028-the-benefits-of-coffee-is-coffee-good-for-health', 'http://www.bbc.com/future', 'https://www.bbc.com/worklife/article/20201029-the-biggest-unknowns-in-a-post-pandemic-work-world', 'http://www.bbc.com/worklife', 'https://www.bbc.com/travel/story/20201026-dosa-indias-wholesome-fast-food-obsession', 'http://www.bbc.com/travel', 'https://www.bbc.com/culture/article/20201029-10-films-to-watch-this-november', 'http://www.bbc.com/culture', 'https://www.bbc.com/earth/story/the-making-of-me-and-you', 'http://www.bbc.com/earth', 'https://www.bbc.com/future/article/20201027-the-fight-to-save-cape-cods-dolphins', 'https://www.bbc.com/worklife/article/20201021-coronavirus-the-possible-long-term-mental-health-impacts', 'http://www.bbc.co.uk/sport/0/', 'https://www.bbc.co.uk/sport/horse-racing/54695641', 'https://twitter.com/BBCWorld', 'https://www.facebook.com/bbcnews', 'https://www.instagram.com/bbcnews', 'http://pages.email.bbc.com/subscribe', 'http://www.bbc.com/news/10628994', 'https://twitter.com/BBC_HaveYourSay', 'http://www.bbc.co.uk/news/help-41670342', 'https://www.bbc.co.uk/usingthebbc/terms/', 'https://www.bbc.co.uk/aboutthebbc', 'https://www.bbc.co.uk/usingthebbc/privacy/', 'https://www.bbc.co.uk/usingthebbc/cookies/', 'https://www.bbc.co.uk/guidance', 'https://www.bbc.co.uk/contact', 'https://www.bbc.co.uk/bbcnewsletter', 'https://www.bbc.co.uk/help/web/links/', '/modules/sharetools/share?url=http://www.bbc.co.uk/accessibility/&appId=mwmw', 'https://ssl.bbc.co.uk/id/status', 'https://ssl.bbc.co.uk/id/settings', 'https://ssl.bbc.co.uk/id/signout', 'http://www.bbc.co.uk/news/', 'http://www.bbc.co.uk/sport/', 'http://www.bbc.co.uk/weather/', 'http://www.bbc.com/earth/', 'http://m.bbc.co.uk/', 'https://www.bbc.co.uk', 'https://www.bbc.co.uk/accessibility/']\n"
          ],
          "name": "stdout"
        }
      ]
    },
    {
      "cell_type": "code",
      "metadata": {
        "id": "sknD-wND12Ut",
        "outputId": "80c1a857-facc-4cd0-874e-d6bc7d224978",
        "colab": {
          "base_uri": "https://localhost:8080/"
        }
      },
      "source": [
        "len(news_urls)"
      ],
      "execution_count": 13,
      "outputs": [
        {
          "output_type": "execute_result",
          "data": {
            "text/plain": [
              "74"
            ]
          },
          "metadata": {
            "tags": []
          },
          "execution_count": 13
        }
      ]
    },
    {
      "cell_type": "code",
      "metadata": {
        "id": "33PWrDiS19BN",
        "outputId": "dfa9011d-b388-4f37-dcea-8bff49b47ffe",
        "colab": {
          "base_uri": "https://localhost:8080/"
        }
      },
      "source": [
        "len(other_urls)"
      ],
      "execution_count": 14,
      "outputs": [
        {
          "output_type": "execute_result",
          "data": {
            "text/plain": [
              "112"
            ]
          },
          "metadata": {
            "tags": []
          },
          "execution_count": 14
        }
      ]
    },
    {
      "cell_type": "markdown",
      "metadata": {
        "id": "_ywQZnmqGFgU"
      },
      "source": [
        "## Scrape"
      ]
    },
    {
      "cell_type": "code",
      "metadata": {
        "id": "XI0CNwitGOXN"
      },
      "source": [
        "documents = []\n",
        "document_index = 0\n",
        "\n",
        "for url in news_urls:\n",
        "    print(\"Fetching {}\".format(url))\n",
        "    response = requests.get(url)\n",
        "    html = response.text\n",
        "    soup = BeautifulSoup(html, \"html.parser\")\n",
        "\n",
        "    news_heading = (soup.find('h1')).text\n",
        "    news_text = [p.text for p in soup.find('article').find_all('p')]\n",
        "    news_time = (soup.find('time'))['datetime']\n",
        "\n",
        "    documents.append({\"Document_Index\":str(document_index), \"Heading\":news_heading, \"Article\":news_text, \"DateTime\":news_time})\n",
        "    document_index = document_index+1\n"
      ],
      "execution_count": null,
      "outputs": []
    },
    {
      "cell_type": "markdown",
      "metadata": {
        "id": "iqVGWvWp41-_"
      },
      "source": [
        "##Saving to MongoDB"
      ]
    },
    {
      "cell_type": "code",
      "metadata": {
        "id": "1Uu-mCu7ODkN"
      },
      "source": [
        "#connect to client\n",
        "client = MongoClient(\"mongodb+srv://aly:a@cluster0.4pfcp.mongodb.net/db?retryWrites=true&w=majority\")"
      ],
      "execution_count": null,
      "outputs": []
    },
    {
      "cell_type": "code",
      "metadata": {
        "id": "SZLK-yYU4-sZ"
      },
      "source": [
        "#create a database\n",
        "db = client[\"news_database\"]"
      ],
      "execution_count": null,
      "outputs": []
    },
    {
      "cell_type": "code",
      "metadata": {
        "id": "mZ0ItLqP5Erh"
      },
      "source": [
        "#create a collection (a table)\n",
        "bbc_news = db[\"bbc_news\"]"
      ],
      "execution_count": null,
      "outputs": []
    },
    {
      "cell_type": "code",
      "metadata": {
        "id": "dbRwByOM1G0D",
        "outputId": "d03e2e19-3857-41af-f9d7-caedad4db673",
        "colab": {
          "base_uri": "https://localhost:8080/"
        }
      },
      "source": [
        "db['bbc_news'].delete_many({})"
      ],
      "execution_count": null,
      "outputs": [
        {
          "output_type": "execute_result",
          "data": {
            "text/plain": [
              "<pymongo.results.DeleteResult at 0x7f4fedbded48>"
            ]
          },
          "metadata": {
            "tags": []
          },
          "execution_count": 65
        }
      ]
    },
    {
      "cell_type": "code",
      "metadata": {
        "id": "gmGtZS6q5fQs",
        "outputId": "66a00cd3-2508-4284-d848-8bf4e5fa8958",
        "colab": {
          "base_uri": "https://localhost:8080/"
        }
      },
      "source": [
        "bbc_news.insert_many(documents)"
      ],
      "execution_count": null,
      "outputs": [
        {
          "output_type": "execute_result",
          "data": {
            "text/plain": [
              "<pymongo.results.InsertManyResult at 0x7f4fee4bf408>"
            ]
          },
          "metadata": {
            "tags": []
          },
          "execution_count": 66
        }
      ]
    },
    {
      "cell_type": "markdown",
      "metadata": {
        "id": "zaC7v2DIdDLm"
      },
      "source": [
        "##Retrieving content from MongoDB"
      ]
    },
    {
      "cell_type": "code",
      "metadata": {
        "id": "MHFqIvw7Dh9_"
      },
      "source": [
        "def retrieve_documents(database, collection):\n",
        "  ''' Take a MongoDB database and collection name, and returns all documents in collection to a pandas dataframe'''\n",
        "  retrieved_documents = database[collection].find() #do not use database.collection, it is a string :)\n",
        "  retrieved_df = pd.DataFrame(retrieved_documents)\n",
        "  return retrieved_df\n",
        "\n",
        "db = client[\"news_database\"]\n",
        "df = retrieve_documents(database = db , collection = 'bbc_news')"
      ],
      "execution_count": null,
      "outputs": []
    },
    {
      "cell_type": "markdown",
      "metadata": {
        "id": "CH9F8tp827ZE"
      },
      "source": [
        "## Keyword search in article text"
      ]
    },
    {
      "cell_type": "markdown",
      "metadata": {
        "id": "fj1uAarhj5cV"
      },
      "source": [
        "####Create a text index -required for text search"
      ]
    },
    {
      "cell_type": "code",
      "metadata": {
        "id": "NDjgxscP4SLd",
        "outputId": "a4a11e44-4daf-486e-dd08-7d601a9cc0a6",
        "colab": {
          "base_uri": "https://localhost:8080/",
          "height": 35
        }
      },
      "source": [
        "db = client[\"news_database\"]\n",
        "db.bbc_news.create_index([\n",
        "          (\"Article\", \"text\"),\n",
        "          (\"Heading\", \"text\"),\n",
        "  ],\n",
        "  name=\"search_index\",\n",
        "  weights={\n",
        "      'Article':25,\n",
        "      'Heading':100\n",
        "  }\n",
        ")"
      ],
      "execution_count": null,
      "outputs": [
        {
          "output_type": "execute_result",
          "data": {
            "application/vnd.google.colaboratory.intrinsic+json": {
              "type": "string"
            },
            "text/plain": [
              "'search_index'"
            ]
          },
          "metadata": {
            "tags": []
          },
          "execution_count": 78
        }
      ]
    },
    {
      "cell_type": "markdown",
      "metadata": {
        "id": "gZSO_1j7kEZd"
      },
      "source": [
        "#### Search function"
      ]
    },
    {
      "cell_type": "code",
      "metadata": {
        "id": "8jK70SV_35zg"
      },
      "source": [
        "def search(search_text, database, collection):\n",
        "  '''\n",
        "  Take a a string containing keywords and outputs all relevant articles to any of them\n",
        "  Args:\n",
        "    -search_text: a string of keywords (<string>)\n",
        "    -database: MongoDB database name (<pymongo.database.Database>)\n",
        "    -collection: string with the name of MongoDB collection (<string>)\n",
        "  Returns:\n",
        "    -A pandas dataframe containing the MongoDB contents of the returned news articles\n",
        "  '''\n",
        "  returned_cursor = database[collection].find({\"$text\": {\"$search\": search_text}}).limit(SEARCH_LIMIT)\n",
        "  df = pd.DataFrame(returned_cursor)\n",
        "  return df\n"
      ],
      "execution_count": null,
      "outputs": []
    },
    {
      "cell_type": "code",
      "metadata": {
        "id": "XivlBnuGTV9N"
      },
      "source": [
        "output = search(\"france sdecular\", db, 'bbc_news')"
      ],
      "execution_count": null,
      "outputs": []
    },
    {
      "cell_type": "code",
      "metadata": {
        "id": "du0fqsNWTaXu",
        "outputId": "6414620b-5468-4e8f-d096-e55aae382abb",
        "colab": {
          "base_uri": "https://localhost:8080/",
          "height": 204
        }
      },
      "source": [
        "output"
      ],
      "execution_count": null,
      "outputs": [
        {
          "output_type": "execute_result",
          "data": {
            "text/html": [
              "<div>\n",
              "<style scoped>\n",
              "    .dataframe tbody tr th:only-of-type {\n",
              "        vertical-align: middle;\n",
              "    }\n",
              "\n",
              "    .dataframe tbody tr th {\n",
              "        vertical-align: top;\n",
              "    }\n",
              "\n",
              "    .dataframe thead th {\n",
              "        text-align: right;\n",
              "    }\n",
              "</style>\n",
              "<table border=\"1\" class=\"dataframe\">\n",
              "  <thead>\n",
              "    <tr style=\"text-align: right;\">\n",
              "      <th></th>\n",
              "      <th>_id</th>\n",
              "      <th>Document_Index</th>\n",
              "      <th>Heading</th>\n",
              "      <th>Article</th>\n",
              "      <th>DateTime</th>\n",
              "    </tr>\n",
              "  </thead>\n",
              "  <tbody>\n",
              "    <tr>\n",
              "      <th>0</th>\n",
              "      <td>5f9b3fa64f790f3d240e148c</td>\n",
              "      <td>28</td>\n",
              "      <td>France attack: Three killed in 'Islamist terro...</td>\n",
              "      <td>[.css-14iz86j-BoldText{font-weight:bold;}Three...</td>\n",
              "      <td>2020-10-29T21:34:43.000Z</td>\n",
              "    </tr>\n",
              "    <tr>\n",
              "      <th>1</th>\n",
              "      <td>5f9b3fa64f790f3d240e1473</td>\n",
              "      <td>3</td>\n",
              "      <td>France attack: Three killed in 'Islamist terro...</td>\n",
              "      <td>[.css-14iz86j-BoldText{font-weight:bold;}Three...</td>\n",
              "      <td>2020-10-29T21:34:43.000Z</td>\n",
              "    </tr>\n",
              "    <tr>\n",
              "      <th>2</th>\n",
              "      <td>5f9b3fa64f790f3d240e147c</td>\n",
              "      <td>12</td>\n",
              "      <td>Covid: Merkel warns of 'long, hard winter' as ...</td>\n",
              "      <td>[.css-14iz86j-BoldText{font-weight:bold;}Germa...</td>\n",
              "      <td>2020-10-29T19:12:05.000Z</td>\n",
              "    </tr>\n",
              "    <tr>\n",
              "      <th>3</th>\n",
              "      <td>5f9b3fa64f790f3d240e147a</td>\n",
              "      <td>10</td>\n",
              "      <td>Covid: Merkel warns of 'long, hard winter' as ...</td>\n",
              "      <td>[.css-14iz86j-BoldText{font-weight:bold;}Germa...</td>\n",
              "      <td>2020-10-29T19:12:05.000Z</td>\n",
              "    </tr>\n",
              "    <tr>\n",
              "      <th>4</th>\n",
              "      <td>5f9b3fa64f790f3d240e1479</td>\n",
              "      <td>9</td>\n",
              "      <td>US growth surged in summer but recovery is slo...</td>\n",
              "      <td>[.css-14iz86j-BoldText{font-weight:bold;}The U...</td>\n",
              "      <td>2020-10-29T14:28:58.000Z</td>\n",
              "    </tr>\n",
              "  </tbody>\n",
              "</table>\n",
              "</div>"
            ],
            "text/plain": [
              "                        _id  ...                  DateTime\n",
              "0  5f9b3fa64f790f3d240e148c  ...  2020-10-29T21:34:43.000Z\n",
              "1  5f9b3fa64f790f3d240e1473  ...  2020-10-29T21:34:43.000Z\n",
              "2  5f9b3fa64f790f3d240e147c  ...  2020-10-29T19:12:05.000Z\n",
              "3  5f9b3fa64f790f3d240e147a  ...  2020-10-29T19:12:05.000Z\n",
              "4  5f9b3fa64f790f3d240e1479  ...  2020-10-29T14:28:58.000Z\n",
              "\n",
              "[5 rows x 5 columns]"
            ]
          },
          "metadata": {
            "tags": []
          },
          "execution_count": 94
        }
      ]
    },
    {
      "cell_type": "code",
      "metadata": {
        "id": "vCcI1UiGkwWo"
      },
      "source": [
        ""
      ],
      "execution_count": null,
      "outputs": []
    }
  ]
}